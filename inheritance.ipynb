{
  "nbformat": 4,
  "nbformat_minor": 0,
  "metadata": {
    "colab": {
      "provenance": [],
      "authorship_tag": "ABX9TyP/bvJW4IQ6uLO6BnzpllTK",
      "include_colab_link": true
    },
    "kernelspec": {
      "name": "python3",
      "display_name": "Python 3"
    },
    "language_info": {
      "name": "python"
    }
  },
  "cells": [
    {
      "cell_type": "markdown",
      "metadata": {
        "id": "view-in-github",
        "colab_type": "text"
      },
      "source": [
        "<a href=\"https://colab.research.google.com/github/vaibhavmahendru/EYGDS/blob/main/inheritance.ipynb\" target=\"_parent\"><img src=\"https://colab.research.google.com/assets/colab-badge.svg\" alt=\"Open In Colab\"/></a>"
      ]
    },
    {
      "cell_type": "code",
      "execution_count": 3,
      "metadata": {
        "id": "b3190vkJzLV8"
      },
      "outputs": [],
      "source": [
        "class gen1:\n",
        "  def generation1(self):\n",
        "    print(\"first generation\")\n",
        "\n",
        "  def generation2(self):\n",
        "    print(\"second generation\")\n",
        "\n",
        "\n",
        "\n",
        "class gen2:\n",
        "  def generation3(self):\n",
        "    print(\"third  generation\")\n",
        "\n",
        "  def generation4(self):\n",
        "    print(\"fourth generation\")\n",
        "\n",
        "\n",
        "class gen3:\n",
        "  def generation5(self):\n",
        "    print(\"fifth  generation\")\n",
        "\n",
        "  def generation6(self):\n",
        "    print(\"sixth generation\")\n",
        "\n",
        "#single inheritance\n",
        "\n",
        "class gen4(gen1):\n",
        "  def generation7(self):\n",
        "    print(\"seventh generation\")\n",
        "\n",
        "g = gen4()\n",
        "\n",
        "#multilevel inheritance\n",
        "\n",
        "class gen5(gen4):\n",
        "  def generation8(self):\n",
        "    print(\"eighth generation\")\n",
        "\n",
        "g1 = gen5()\n",
        "\n",
        "\n",
        "#multiple inheritance\n",
        "\n",
        "class gen6(gen2,gen3):\n",
        "  def generation9(self):\n",
        "    print(\"ninth generation\")\n",
        "\n",
        "\n",
        "g2 = gen6()\n",
        "\n",
        "\n",
        "\n",
        "\n",
        "\n",
        "\n",
        "\n",
        "\n",
        "\n",
        "\n",
        "\n",
        "\n",
        "\n",
        "\n"
      ]
    },
    {
      "cell_type": "code",
      "source": [
        "\n",
        "\n",
        "\n",
        " \n"
      ],
      "metadata": {
        "id": "mL0y814u1js9"
      },
      "execution_count": 8,
      "outputs": []
    }
  ]
}