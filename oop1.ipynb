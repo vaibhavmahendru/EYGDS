{
  "nbformat": 4,
  "nbformat_minor": 0,
  "metadata": {
    "colab": {
      "provenance": [],
      "authorship_tag": "ABX9TyNRa7lmjmyqMjkZjXAkoVMg",
      "include_colab_link": true
    },
    "kernelspec": {
      "name": "python3",
      "display_name": "Python 3"
    },
    "language_info": {
      "name": "python"
    }
  },
  "cells": [
    {
      "cell_type": "markdown",
      "metadata": {
        "id": "view-in-github",
        "colab_type": "text"
      },
      "source": [
        "<a href=\"https://colab.research.google.com/github/vaibhavmahendru/EYGDS/blob/main/oop1.ipynb\" target=\"_parent\"><img src=\"https://colab.research.google.com/assets/colab-badge.svg\" alt=\"Open In Colab\"/></a>"
      ]
    },
    {
      "cell_type": "markdown",
      "source": [
        "Write a Python class named student with two attributes student_id, student_name. Add a new attribute student_class and display the entire attribute and their values of the said class. Now remove the student_name attribute and display the entire attribute with values."
      ],
      "metadata": {
        "id": "nyhRkyHBuU8C"
      }
    },
    {
      "cell_type": "code",
      "source": [
        "class student:\n",
        "    \n",
        "    student_class = '10-b'\n",
        "\n",
        "    def __init__(self,student_id,student_name):\n",
        "      self.student_id = student_id\n",
        "      self.student_name = student_name\n",
        "    \n",
        "    def show(self):\n",
        "      print(\"name \",self.student_name, \"ID is \", self.student_id)\n",
        "\n",
        "student.student_class = '10-a'\n",
        "\n",
        "x = student(15,\"alex\")\n",
        "x.show()\n",
        "x.student_class\n",
        "\n",
        "\n",
        "del student.student_class\n",
        "\n",
        "x.show()\n",
        "\n"
      ],
      "metadata": {
        "colab": {
          "base_uri": "https://localhost:8080/"
        },
        "id": "9gl-H_W2uWO4",
        "outputId": "c398f566-6621-4a69-9f66-f08e2a71f56a"
      },
      "execution_count": null,
      "outputs": [
        {
          "output_type": "stream",
          "name": "stdout",
          "text": [
            "name  alex ID is  15\n",
            "name  alex ID is  15\n"
          ]
        }
      ]
    },
    {
      "cell_type": "markdown",
      "source": [
        "2.write a python class to implement pow(x,n)"
      ],
      "metadata": {
        "id": "cmDOSP-t6VFi"
      }
    },
    {
      "cell_type": "code",
      "source": [
        "'''class pow:\n",
        "  def __init__(self , a , n):\n",
        "    self.a = a\n",
        "    self.n = n\n",
        "    print((self.a)**(self.n))\n",
        "\n",
        "print(pow(2,2))'''\n",
        "\n",
        "class res:\n",
        "   def pow(self, x, n):\n",
        "        if x==0 or x==1 or n==1:\n",
        "            return x \n",
        "\n",
        "        if x==-1:\n",
        "            if n%2 ==0:\n",
        "                return 1\n",
        "            else:\n",
        "                return -1\n",
        "        if n==0:\n",
        "            return 1\n",
        "        if n<0:\n",
        "          return 1/self.pow(x,-n)\n",
        "        pow  = 1\n",
        "        for i in range(n):\n",
        "          pow = pow * x\n",
        "        return pow\n",
        "        \n",
        "\n",
        "\n",
        "print(res().pow(-4,2))\n",
        "\n",
        "\n",
        "      \n",
        "  \n",
        "    "
      ],
      "metadata": {
        "colab": {
          "base_uri": "https://localhost:8080/"
        },
        "id": "2bxHQZS36Vtq",
        "outputId": "afb198bf-cc94-47ad-b4ee-2b9c0a03fb53"
      },
      "execution_count": null,
      "outputs": [
        {
          "output_type": "stream",
          "name": "stdout",
          "text": [
            "16\n"
          ]
        }
      ]
    },
    {
      "cell_type": "markdown",
      "source": [
        "3. write a program to create a python class to reverse a string word by word"
      ],
      "metadata": {
        "id": "m1rbaItZvdT5"
      }
    },
    {
      "cell_type": "code",
      "source": [
        "class rev:\n",
        "  def rev_words(self,s):\n",
        "    s1 = s.split()\n",
        "    return ' '.join(s1[::-1])\n",
        "\n",
        "\n",
        "print(rev().rev_words('asd fgh jkl'))"
      ],
      "metadata": {
        "colab": {
          "base_uri": "https://localhost:8080/"
        },
        "id": "P1zkS2THviy8",
        "outputId": "bed4238f-9599-481f-ce25-207c5cfbf41c"
      },
      "execution_count": null,
      "outputs": [
        {
          "output_type": "stream",
          "name": "stdout",
          "text": [
            "jkl fgh asd\n"
          ]
        }
      ]
    },
    {
      "cell_type": "markdown",
      "source": [
        ".Write a Python class named Circle constructed by a radius and two methods which will\n",
        "compute the area and the perimeter of a circle"
      ],
      "metadata": {
        "id": "qZPsoYpQ3FkX"
      }
    },
    {
      "cell_type": "code",
      "source": [
        "class circle:\n",
        "  def __init__(self,r):\n",
        "    self.rad = r\n",
        "\n",
        "  def area(self):\n",
        "    return 3.14*self.rad**2\n",
        "\n",
        "  def perimeter(self):\n",
        "    return 2*3.14*self.rad\n",
        "\n",
        "new = circle(7)\n",
        "    \n",
        "print(new.area())\n",
        "print(new.perimeter())"
      ],
      "metadata": {
        "colab": {
          "base_uri": "https://localhost:8080/"
        },
        "id": "-wXMVG3o3G0H",
        "outputId": "31908ab1-0a90-4dac-ffc1-9e962709b2a3"
      },
      "execution_count": null,
      "outputs": [
        {
          "output_type": "stream",
          "name": "stdout",
          "text": [
            "153.86\n",
            "43.96\n"
          ]
        }
      ]
    },
    {
      "cell_type": "code",
      "source": [
        "\n"
      ],
      "metadata": {
        "colab": {
          "base_uri": "https://localhost:8080/"
        },
        "id": "aYfe4LhuB-qV",
        "outputId": "c35257d5-576c-4924-d0c7-99fdd0eab4a1"
      },
      "execution_count": null,
      "outputs": [
        {
          "output_type": "stream",
          "name": "stdout",
          "text": [
            "0\n"
          ]
        }
      ]
    }
  ]
}