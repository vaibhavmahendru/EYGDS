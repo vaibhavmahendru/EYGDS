{
  "nbformat": 4,
  "nbformat_minor": 0,
  "metadata": {
    "colab": {
      "provenance": [],
      "authorship_tag": "ABX9TyMYFSGEZp9Zfd9quNbcUmbM",
      "include_colab_link": true
    },
    "kernelspec": {
      "name": "python3",
      "display_name": "Python 3"
    },
    "language_info": {
      "name": "python"
    }
  },
  "cells": [
    {
      "cell_type": "markdown",
      "metadata": {
        "id": "view-in-github",
        "colab_type": "text"
      },
      "source": [
        "<a href=\"https://colab.research.google.com/github/vaibhavmahendru/EYGDS/blob/main/functionE1.ipynb\" target=\"_parent\"><img src=\"https://colab.research.google.com/assets/colab-badge.svg\" alt=\"Open In Colab\"/></a>"
      ]
    },
    {
      "cell_type": "markdown",
      "source": [
        "Create a function in such a way that we can pass any number of arguments to this function, and the function should process them and display each argument’s value "
      ],
      "metadata": {
        "id": "BuFSgyYqPPUT"
      }
    },
    {
      "cell_type": "code",
      "execution_count": 11,
      "metadata": {
        "colab": {
          "base_uri": "https://localhost:8080/"
        },
        "id": "cggbzwiEo7RE",
        "outputId": "131289ee-ee92-47bb-a671-ecec846dccf5"
      },
      "outputs": [
        {
          "output_type": "stream",
          "name": "stdout",
          "text": [
            "1\n",
            "2\n",
            "3\n",
            "6\n",
            "5\n",
            "55\n",
            "98\n",
            "4\n",
            "5\n"
          ]
        }
      ],
      "source": [
        "\n",
        "def fun(*n):\n",
        "  for x in n:\n",
        "    print(x)\n",
        "\n",
        "fun(1,2,3,6,5,55,98,4,5)"
      ]
    },
    {
      "cell_type": "markdown",
      "source": [
        "Write a program to create function calculation() such that it can accept two variables and calculate addition and subtraction. Also, it must return both addition and subtraction in a single return call. "
      ],
      "metadata": {
        "id": "AVFmIsioMRNP"
      }
    },
    {
      "cell_type": "code",
      "source": [
        "def calculation(a,b):\n",
        "  add = a+b\n",
        "  sub = a-b\n",
        "\n",
        "  return  add , sub\n",
        "\n",
        "calculation(40,20)\n"
      ],
      "metadata": {
        "colab": {
          "base_uri": "https://localhost:8080/"
        },
        "id": "-py5b1dcMUNX",
        "outputId": "97fa8d65-1709-4896-bc33-74cac3ed522e"
      },
      "execution_count": 13,
      "outputs": [
        {
          "output_type": "execute_result",
          "data": {
            "text/plain": [
              "(60, 20)"
            ]
          },
          "metadata": {},
          "execution_count": 13
        }
      ]
    },
    {
      "cell_type": "markdown",
      "source": [
        "Write a program to create a function show_employee() using the following conditions. \n",
        "\n",
        "A)It should accept the employee’s name and salary and display both. \n",
        "\n",
        "B)If the salary is missing in the function call then assign default value 9000 to salary "
      ],
      "metadata": {
        "id": "BzaDFfepM6By"
      }
    },
    {
      "cell_type": "code",
      "source": [
        "def show_employee(name , salary=9000):\n",
        "\n",
        "  return name , salary\n",
        " \n",
        "  \n",
        "show_employee('vaibhav')\n"
      ],
      "metadata": {
        "colab": {
          "base_uri": "https://localhost:8080/"
        },
        "id": "hB6Kzut6ND9y",
        "outputId": "2ecb384a-cf35-455d-8c19-7251a712d5bc"
      },
      "execution_count": 17,
      "outputs": [
        {
          "output_type": "execute_result",
          "data": {
            "text/plain": [
              "('vaibhav', 9000)"
            ]
          },
          "metadata": {},
          "execution_count": 17
        }
      ]
    },
    {
      "cell_type": "markdown",
      "source": [
        "Create an outer function that will accept two parameters, a and b,   Create an inner function inside an outer function that will calculate the addition of a and b,  At last, an outer function will add 5 into addition and return it "
      ],
      "metadata": {
        "id": "wv8E8C1nNm0a"
      }
    },
    {
      "cell_type": "code",
      "source": [
        "def accept(a,b):\n",
        "  def add():\n",
        "    c = a+b\n",
        "    return c\n",
        "  return add() + 5\n",
        "\n",
        "accept(5,6)"
      ],
      "metadata": {
        "colab": {
          "base_uri": "https://localhost:8080/"
        },
        "id": "y_D_STaqOfpA",
        "outputId": "f5b343ba-8be9-4373-f72f-e0a7e260c278"
      },
      "execution_count": 9,
      "outputs": [
        {
          "output_type": "execute_result",
          "data": {
            "text/plain": [
              "16"
            ]
          },
          "metadata": {},
          "execution_count": 9
        }
      ]
    }
  ]
}