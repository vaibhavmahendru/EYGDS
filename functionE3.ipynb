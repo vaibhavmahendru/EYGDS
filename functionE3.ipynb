{
  "nbformat": 4,
  "nbformat_minor": 0,
  "metadata": {
    "colab": {
      "provenance": [],
      "authorship_tag": "ABX9TyOpqAJthuPa4B2D6UPp2Qai",
      "include_colab_link": true
    },
    "kernelspec": {
      "name": "python3",
      "display_name": "Python 3"
    },
    "language_info": {
      "name": "python"
    }
  },
  "cells": [
    {
      "cell_type": "markdown",
      "metadata": {
        "id": "view-in-github",
        "colab_type": "text"
      },
      "source": [
        "<a href=\"https://colab.research.google.com/github/vaibhavmahendru/EYGDS/blob/main/functionE3.ipynb\" target=\"_parent\"><img src=\"https://colab.research.google.com/assets/colab-badge.svg\" alt=\"Open In Colab\"/></a>"
      ]
    },
    {
      "cell_type": "markdown",
      "source": [
        "1. Write a Python function that accepts a string and calculate the number of upper case letters and lower case letters "
      ],
      "metadata": {
        "id": "nu2vS2fYp-ya"
      }
    },
    {
      "cell_type": "code",
      "source": [
        "def uplow(string):\n",
        "  upper = 0\n",
        "  lower = 0\n",
        "  for x in string:\n",
        "    if x.islower():\n",
        "      lower += 1\n",
        "    elif x.isupper():\n",
        "      upper +=1\n",
        "    else: \n",
        "      pass\n",
        "  return(upper, lower)\n",
        "\n",
        "uplow(\"how ARE yOu\")"
      ],
      "metadata": {
        "colab": {
          "base_uri": "https://localhost:8080/"
        },
        "id": "QEKZ28CNqA7K",
        "outputId": "79711e14-363e-4551-ef9c-a4a8cc17beee"
      },
      "execution_count": 7,
      "outputs": [
        {
          "output_type": "execute_result",
          "data": {
            "text/plain": [
              "(4, 5)"
            ]
          },
          "metadata": {},
          "execution_count": 7
        }
      ]
    },
    {
      "cell_type": "markdown",
      "source": [
        "Write a Python function to check whether a string is a pangram or not.\n"
      ],
      "metadata": {
        "id": "E47YeuHGqBLi"
      }
    },
    {
      "cell_type": "code",
      "source": [
        "import string\n",
        "def is_pangram(s):\n",
        "    s = s.upper()\n",
        "    return set(s.upper()) >= set(string.ascii_uppercase)\n",
        "\n",
        "is_pangram(\"The quick brown fox jumps over the lazy dog\")\n"
      ],
      "metadata": {
        "colab": {
          "base_uri": "https://localhost:8080/"
        },
        "id": "AII-fvfnqE1p",
        "outputId": "ab9c2bc9-d549-4ef0-e5c7-154394651ed1"
      },
      "execution_count": 29,
      "outputs": [
        {
          "output_type": "execute_result",
          "data": {
            "text/plain": [
              "True"
            ]
          },
          "metadata": {},
          "execution_count": 29
        }
      ]
    },
    {
      "cell_type": "markdown",
      "source": [
        "Write a Python function that takes a number as a parameter and check the number is prime or not."
      ],
      "metadata": {
        "id": "QX3-F--XsBXz"
      }
    },
    {
      "cell_type": "code",
      "source": [
        "def isprime(num):\n",
        "  if(num>1):\n",
        "    for n in range(2,num):\n",
        "      if(num%n) == 0:\n",
        "        return False\n",
        "      else:\n",
        "        return True\n",
        " \n",
        "\n",
        "isprime(12)\n",
        "isprime(7)\n"
      ],
      "metadata": {
        "colab": {
          "base_uri": "https://localhost:8080/"
        },
        "id": "zTHkXGP0sDfi",
        "outputId": "60f828ef-d2e0-42ef-c090-fc6794612610"
      },
      "execution_count": 14,
      "outputs": [
        {
          "output_type": "execute_result",
          "data": {
            "text/plain": [
              "True"
            ]
          },
          "metadata": {},
          "execution_count": 14
        }
      ]
    },
    {
      "cell_type": "markdown",
      "source": [
        "Write a Python function to check whether a number is perfect or not."
      ],
      "metadata": {
        "id": "PuPeR3njuAdb"
      }
    },
    {
      "cell_type": "code",
      "source": [
        "def p_n(num):\n",
        "  sum = 0\n",
        "  for x in range(1,num):\n",
        "    if num % x == 0:\n",
        "      sum += x\n",
        "  return sum == num\n",
        "\n",
        "p_n(28)\n",
        "\n"
      ],
      "metadata": {
        "colab": {
          "base_uri": "https://localhost:8080/"
        },
        "id": "hB4eruSNuDWM",
        "outputId": "58fab34a-c3b5-4649-d673-ae040cd1a63d"
      },
      "execution_count": 23,
      "outputs": [
        {
          "output_type": "execute_result",
          "data": {
            "text/plain": [
              "True"
            ]
          },
          "metadata": {},
          "execution_count": 23
        }
      ]
    }
  ]
}