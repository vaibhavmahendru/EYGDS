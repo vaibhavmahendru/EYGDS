{
  "nbformat": 4,
  "nbformat_minor": 0,
  "metadata": {
    "colab": {
      "provenance": [],
      "collapsed_sections": [],
      "authorship_tag": "ABX9TyPpr3CkTRE2Df1/gYqzihDM",
      "include_colab_link": true
    },
    "kernelspec": {
      "name": "python3",
      "display_name": "Python 3"
    },
    "language_info": {
      "name": "python"
    }
  },
  "cells": [
    {
      "cell_type": "markdown",
      "metadata": {
        "id": "view-in-github",
        "colab_type": "text"
      },
      "source": [
        "<a href=\"https://colab.research.google.com/github/vaibhavmahendru/EYGDS/blob/main/numpy.ipynb\" target=\"_parent\"><img src=\"https://colab.research.google.com/assets/colab-badge.svg\" alt=\"Open In Colab\"/></a>"
      ]
    },
    {
      "cell_type": "code",
      "source": [
        "import numpy as np"
      ],
      "metadata": {
        "id": "LQ74zVisUgol"
      },
      "execution_count": 1,
      "outputs": []
    },
    {
      "cell_type": "code",
      "source": [
        "ages = [25,23,35,45,14,22]\n",
        "ages\n",
        "print(type(ages))"
      ],
      "metadata": {
        "colab": {
          "base_uri": "https://localhost:8080/"
        },
        "id": "-niRc8SMUjDU",
        "outputId": "52a57a70-205f-45c9-b5ab-6657c3aa891f"
      },
      "execution_count": 11,
      "outputs": [
        {
          "output_type": "stream",
          "name": "stdout",
          "text": [
            "<class 'list'>\n"
          ]
        }
      ]
    },
    {
      "cell_type": "code",
      "source": [
        "age = np.array(ages)\n",
        "print(type(age))\n",
        "print(age)"
      ],
      "metadata": {
        "colab": {
          "base_uri": "https://localhost:8080/"
        },
        "id": "GQWqBnL_UnNk",
        "outputId": "809c189f-aa48-4487-b5c0-ca6233635d37"
      },
      "execution_count": 12,
      "outputs": [
        {
          "output_type": "stream",
          "name": "stdout",
          "text": [
            "<class 'numpy.ndarray'>\n",
            "[25 23 35 45 14 22]\n"
          ]
        }
      ]
    },
    {
      "cell_type": "code",
      "source": [
        "print(age.size)\n",
        "print(age.shape)"
      ],
      "metadata": {
        "colab": {
          "base_uri": "https://localhost:8080/"
        },
        "id": "wXL2TWC1VS0b",
        "outputId": "ba65d47e-0da4-4b94-cd37-1a6879740de2"
      },
      "execution_count": 13,
      "outputs": [
        {
          "output_type": "stream",
          "name": "stdout",
          "text": [
            "6\n",
            "(6,)\n"
          ]
        }
      ]
    },
    {
      "cell_type": "code",
      "source": [
        "ZeroArray = np.zeros(3)\n",
        "ZeroArray"
      ],
      "metadata": {
        "colab": {
          "base_uri": "https://localhost:8080/"
        },
        "id": "7jYyMKdSV1C6",
        "outputId": "d9ca2736-35a4-4973-818d-de4ec81b351e"
      },
      "execution_count": 14,
      "outputs": [
        {
          "output_type": "execute_result",
          "data": {
            "text/plain": [
              "array([0., 0., 0.])"
            ]
          },
          "metadata": {},
          "execution_count": 14
        }
      ]
    },
    {
      "cell_type": "code",
      "source": [
        "weight = [50,60,70,80,55,85]"
      ],
      "metadata": {
        "id": "hG2QQo-cWNu0"
      },
      "execution_count": 29,
      "outputs": []
    },
    {
      "cell_type": "code",
      "source": [
        "people = np.array([ages , weight])\n",
        "print(type(people))"
      ],
      "metadata": {
        "colab": {
          "base_uri": "https://localhost:8080/"
        },
        "id": "xBWeFWmpW0w5",
        "outputId": "31165315-ac44-45c9-ce11-5a26fb8a7048"
      },
      "execution_count": 30,
      "outputs": [
        {
          "output_type": "stream",
          "name": "stdout",
          "text": [
            "<class 'numpy.ndarray'>\n"
          ]
        }
      ]
    },
    {
      "cell_type": "code",
      "source": [
        "print(people)\n",
        "print(people.size)\n",
        "print(people.shape)"
      ],
      "metadata": {
        "colab": {
          "base_uri": "https://localhost:8080/"
        },
        "id": "bJyMdEWOXTpY",
        "outputId": "56729df2-a0b5-400b-fc50-7631954a2bcc"
      },
      "execution_count": 31,
      "outputs": [
        {
          "output_type": "stream",
          "name": "stdout",
          "text": [
            "[[25 23 35 45 14 22]\n",
            " [50 60 70 80 55 85]]\n",
            "12\n",
            "(2, 6)\n"
          ]
        }
      ]
    },
    {
      "cell_type": "code",
      "source": [
        "people = people.reshape(1,12)\n",
        "print(\"people : \\t \",people)\n",
        "print(\"shape : \\t \",people.shape)\n",
        "print(\"size : \\t \",people.size)"
      ],
      "metadata": {
        "colab": {
          "base_uri": "https://localhost:8080/"
        },
        "id": "UdcLl_GeYlef",
        "outputId": "eb013597-1d97-4d82-d6a5-0b4ac001f30d"
      },
      "execution_count": 36,
      "outputs": [
        {
          "output_type": "stream",
          "name": "stdout",
          "text": [
            "people : \t  [[25 23 35 45 14 22 50 60 70 80 55 85]]\n",
            "shape : \t  (1, 12)\n",
            "size : \t  12\n"
          ]
        }
      ]
    },
    {
      "cell_type": "code",
      "source": [
        "arr1 = np.array([7, 9, 65, 33, 85, 99])\n",
        "print(arr1)"
      ],
      "metadata": {
        "colab": {
          "base_uri": "https://localhost:8080/"
        },
        "id": "FFectuWxangQ",
        "outputId": "86ea71d4-0d93-4840-bef9-610bff3f5be6"
      },
      "execution_count": 38,
      "outputs": [
        {
          "output_type": "stream",
          "name": "stdout",
          "text": [
            "[ 7  9 65 33 85 99]\n"
          ]
        }
      ]
    },
    {
      "cell_type": "code",
      "source": [
        "arr2 = np.array([[1,2,4] , [2,3,0] , [0,5,1]])\n",
        "print(arr2)"
      ],
      "metadata": {
        "colab": {
          "base_uri": "https://localhost:8080/"
        },
        "id": "EPg3CrWFbFKA",
        "outputId": "20b59d02-10de-4e93-a639-9892636576e0"
      },
      "execution_count": 39,
      "outputs": [
        {
          "output_type": "stream",
          "name": "stdout",
          "text": [
            "[[1 2 4]\n",
            " [2 3 0]\n",
            " [0 5 1]]\n"
          ]
        }
      ]
    },
    {
      "cell_type": "code",
      "source": [
        "arr2.shape"
      ],
      "metadata": {
        "colab": {
          "base_uri": "https://localhost:8080/"
        },
        "id": "LIkoFPhdbmPi",
        "outputId": "aeed9091-642b-4dda-df74-222b8200a55a"
      },
      "execution_count": 40,
      "outputs": [
        {
          "output_type": "execute_result",
          "data": {
            "text/plain": [
              "(3, 3)"
            ]
          },
          "metadata": {},
          "execution_count": 40
        }
      ]
    },
    {
      "cell_type": "code",
      "source": [
        "arr2 = arr2.reshape(1,9)\n",
        "arr2.shape"
      ],
      "metadata": {
        "colab": {
          "base_uri": "https://localhost:8080/"
        },
        "id": "ghxxTNXabrzq",
        "outputId": "63d148a8-ef64-4bb4-8c28-78aa3aad4f51"
      },
      "execution_count": 43,
      "outputs": [
        {
          "output_type": "execute_result",
          "data": {
            "text/plain": [
              "(1, 9)"
            ]
          },
          "metadata": {},
          "execution_count": 43
        }
      ]
    },
    {
      "cell_type": "code",
      "source": [
        "arr3 = np.array([[1,2,4] , [2,3,0] , [0,5,1] , [3,6,9]])\n",
        "print(arr3)\n",
        "arr3.shape"
      ],
      "metadata": {
        "colab": {
          "base_uri": "https://localhost:8080/"
        },
        "id": "6k47RoYgb82f",
        "outputId": "9141d5fa-28d2-4a95-aad8-4a629eab527c"
      },
      "execution_count": 45,
      "outputs": [
        {
          "output_type": "stream",
          "name": "stdout",
          "text": [
            "[[1 2 4]\n",
            " [2 3 0]\n",
            " [0 5 1]\n",
            " [3 6 9]]\n"
          ]
        },
        {
          "output_type": "execute_result",
          "data": {
            "text/plain": [
              "(4, 3)"
            ]
          },
          "metadata": {},
          "execution_count": 45
        }
      ]
    },
    {
      "cell_type": "code",
      "source": [
        "arr3 = arr3.reshape(2,6)\n",
        "print(arr3.shape)\n",
        "print(arr3)"
      ],
      "metadata": {
        "colab": {
          "base_uri": "https://localhost:8080/"
        },
        "id": "s8LP_S_dcFkc",
        "outputId": "4352e7f9-1a53-4c4a-e981-5fdaef552d2d"
      },
      "execution_count": 55,
      "outputs": [
        {
          "output_type": "stream",
          "name": "stdout",
          "text": [
            "(2, 6)\n",
            "[[1 2 4 2 3 0]\n",
            " [0 5 1 3 6 9]]\n"
          ]
        }
      ]
    },
    {
      "cell_type": "code",
      "source": [
        "table = np.arange(5,10,2)\n",
        "table"
      ],
      "metadata": {
        "colab": {
          "base_uri": "https://localhost:8080/"
        },
        "id": "VjfaEku1cPEJ",
        "outputId": "821cb077-cbb1-4852-e3cc-0f1cfee73e26"
      },
      "execution_count": 51,
      "outputs": [
        {
          "output_type": "execute_result",
          "data": {
            "text/plain": [
              "array([5, 7, 9])"
            ]
          },
          "metadata": {},
          "execution_count": 51
        }
      ]
    },
    {
      "cell_type": "code",
      "source": [
        "space = np.linspace(0,100,15)\n",
        "space"
      ],
      "metadata": {
        "colab": {
          "base_uri": "https://localhost:8080/"
        },
        "id": "awQs0VWSdMaO",
        "outputId": "6875ff61-93fd-4bc2-dce3-46bab5b314d0"
      },
      "execution_count": 53,
      "outputs": [
        {
          "output_type": "execute_result",
          "data": {
            "text/plain": [
              "array([  0.        ,   7.14285714,  14.28571429,  21.42857143,\n",
              "        28.57142857,  35.71428571,  42.85714286,  50.        ,\n",
              "        57.14285714,  64.28571429,  71.42857143,  78.57142857,\n",
              "        85.71428571,  92.85714286, 100.        ])"
            ]
          },
          "metadata": {},
          "execution_count": 53
        }
      ]
    },
    {
      "cell_type": "code",
      "source": [
        "arr4 = np.repeat(5,5)\n",
        "print(arr4)"
      ],
      "metadata": {
        "colab": {
          "base_uri": "https://localhost:8080/"
        },
        "id": "zSxEhw6hezqo",
        "outputId": "2b2cbe0f-a901-42d4-f72e-4e551ea136c3"
      },
      "execution_count": 56,
      "outputs": [
        {
          "output_type": "stream",
          "name": "stdout",
          "text": [
            "[5 5 5 5 5]\n"
          ]
        }
      ]
    },
    {
      "cell_type": "code",
      "source": [
        "i_array = np.eye(5)\n",
        "print(i_array)"
      ],
      "metadata": {
        "colab": {
          "base_uri": "https://localhost:8080/"
        },
        "id": "fedPjeMqfCjz",
        "outputId": "2f4a851c-5e7e-4beb-ef24-fea16ce0456c"
      },
      "execution_count": 57,
      "outputs": [
        {
          "output_type": "stream",
          "name": "stdout",
          "text": [
            "[[1. 0. 0. 0. 0.]\n",
            " [0. 1. 0. 0. 0.]\n",
            " [0. 0. 1. 0. 0.]\n",
            " [0. 0. 0. 1. 0.]\n",
            " [0. 0. 0. 0. 1.]]\n"
          ]
        }
      ]
    },
    {
      "cell_type": "code",
      "source": [
        "table"
      ],
      "metadata": {
        "colab": {
          "base_uri": "https://localhost:8080/"
        },
        "id": "Bte1ldMffRmT",
        "outputId": "9c1c68a1-da1e-4dea-de38-2142e0f2b841"
      },
      "execution_count": 58,
      "outputs": [
        {
          "output_type": "execute_result",
          "data": {
            "text/plain": [
              "array([5, 7, 9])"
            ]
          },
          "metadata": {},
          "execution_count": 58
        }
      ]
    },
    {
      "cell_type": "code",
      "source": [
        "arr3 = arr3.reshape(4,3)\n",
        "arr3"
      ],
      "metadata": {
        "colab": {
          "base_uri": "https://localhost:8080/"
        },
        "id": "5WHsHnFoff44",
        "outputId": "1a301654-d057-49ce-f6f5-b1d11f455c21"
      },
      "execution_count": 60,
      "outputs": [
        {
          "output_type": "execute_result",
          "data": {
            "text/plain": [
              "array([[1, 2, 4],\n",
              "       [2, 3, 0],\n",
              "       [0, 5, 1],\n",
              "       [3, 6, 9]])"
            ]
          },
          "metadata": {},
          "execution_count": 60
        }
      ]
    },
    {
      "cell_type": "code",
      "source": [
        "print(\"1. \",2 * arr3)\n",
        "print(\"\\n\")\n",
        "print(\"2. \",2 + arr3)\n",
        "print(\"\\n\")\n",
        "print(\"3. \", arr3-2)\n",
        "print(\"\\n\")\n",
        "print(\"4. \", arr3/2)\n",
        "print(\"\\n\")\n",
        "print(\"5. \", arr3**3)\n",
        "print(\"\\n\")\n",
        "print(\"6. \", arr3<5)\n"
      ],
      "metadata": {
        "colab": {
          "base_uri": "https://localhost:8080/"
        },
        "id": "oG1CsvnMfo-X",
        "outputId": "c6d9339b-27bb-4986-aa83-942715e71a52"
      },
      "execution_count": 62,
      "outputs": [
        {
          "output_type": "stream",
          "name": "stdout",
          "text": [
            "1.  [[ 2  4  8]\n",
            " [ 4  6  0]\n",
            " [ 0 10  2]\n",
            " [ 6 12 18]]\n",
            "\n",
            "\n",
            "2.  [[ 3  4  6]\n",
            " [ 4  5  2]\n",
            " [ 2  7  3]\n",
            " [ 5  8 11]]\n",
            "\n",
            "\n",
            "3.  [[-1  0  2]\n",
            " [ 0  1 -2]\n",
            " [-2  3 -1]\n",
            " [ 1  4  7]]\n",
            "\n",
            "\n",
            "4.  [[0.5 1.  2. ]\n",
            " [1.  1.5 0. ]\n",
            " [0.  2.5 0.5]\n",
            " [1.5 3.  4.5]]\n",
            "\n",
            "\n",
            "5.  [[  1   8  64]\n",
            " [  8  27   0]\n",
            " [  0 125   1]\n",
            " [ 27 216 729]]\n",
            "\n",
            "\n",
            "6.  [[ True  True  True]\n",
            " [ True  True  True]\n",
            " [ True False  True]\n",
            " [ True False False]]\n"
          ]
        }
      ]
    },
    {
      "cell_type": "code",
      "source": [
        "l1 = list(range(0,5001,5))\n",
        "l1"
      ],
      "metadata": {
        "id": "nRd3zqFvgfn-"
      },
      "execution_count": null,
      "outputs": []
    },
    {
      "cell_type": "code",
      "source": [
        "l2 = np.arange(0,5001,5)\n",
        "l2"
      ],
      "metadata": {
        "colab": {
          "base_uri": "https://localhost:8080/"
        },
        "id": "OETzlMZDgock",
        "outputId": "d6474c5a-8880-4f72-8af7-73db1721f208"
      },
      "execution_count": 66,
      "outputs": [
        {
          "output_type": "execute_result",
          "data": {
            "text/plain": [
              "array([   0,    5,   10, ..., 4990, 4995, 5000])"
            ]
          },
          "metadata": {},
          "execution_count": 66
        }
      ]
    },
    {
      "cell_type": "code",
      "source": [
        "%timeit l2 + 5"
      ],
      "metadata": {
        "colab": {
          "base_uri": "https://localhost:8080/"
        },
        "id": "2QtMZuCZg3bL",
        "outputId": "4e69162a-daae-4bfa-b44d-4d4af0b30017"
      },
      "execution_count": 67,
      "outputs": [
        {
          "output_type": "stream",
          "name": "stdout",
          "text": [
            "1.28 µs ± 10 ns per loop (mean ± std. dev. of 7 runs, 1000000 loops each)\n"
          ]
        }
      ]
    },
    {
      "cell_type": "code",
      "source": [
        "%timeit [5 in l1]"
      ],
      "metadata": {
        "colab": {
          "base_uri": "https://localhost:8080/"
        },
        "id": "akC-ALwahE9I",
        "outputId": "8e391abf-f8c2-4947-8c67-c20133a92c7d"
      },
      "execution_count": 69,
      "outputs": [
        {
          "output_type": "stream",
          "name": "stdout",
          "text": [
            "94 ns ± 0.934 ns per loop (mean ± std. dev. of 7 runs, 10000000 loops each)\n"
          ]
        }
      ]
    },
    {
      "cell_type": "code",
      "source": [
        "word = np.array([\"one\" , \"two\" , \"three\" , \"four\"])\n",
        "\n",
        "print(np.isin(word , \"e\"))\n",
        "\n",
        "print(\"e\" in word)\n",
        "[\"e\" in x for x in word]"
      ],
      "metadata": {
        "colab": {
          "base_uri": "https://localhost:8080/"
        },
        "id": "dSuZ_JnuhajG",
        "outputId": "0901ea15-039d-4db1-facf-e81e9e3f8d46"
      },
      "execution_count": 73,
      "outputs": [
        {
          "output_type": "stream",
          "name": "stdout",
          "text": [
            "[False False False False]\n",
            "False\n"
          ]
        },
        {
          "output_type": "execute_result",
          "data": {
            "text/plain": [
              "[True, False, True, False]"
            ]
          },
          "metadata": {},
          "execution_count": 73
        }
      ]
    },
    {
      "cell_type": "code",
      "source": [
        "arr3.shape\n",
        "print(arr3 , \"\\n\")\n",
        "print(arr3.T)\n",
        "\n"
      ],
      "metadata": {
        "colab": {
          "base_uri": "https://localhost:8080/"
        },
        "id": "mIOmzNNKiasQ",
        "outputId": "513a4b77-34f9-476e-8135-202aaa5cf391"
      },
      "execution_count": 77,
      "outputs": [
        {
          "output_type": "stream",
          "name": "stdout",
          "text": [
            "[[1 2 4]\n",
            " [2 3 0]\n",
            " [0 5 1]\n",
            " [3 6 9]] \n",
            "\n",
            "[[1 2 0 3]\n",
            " [2 3 5 6]\n",
            " [4 0 1 9]]\n"
          ]
        }
      ]
    },
    {
      "cell_type": "code",
      "source": [
        "arr3.dtype"
      ],
      "metadata": {
        "colab": {
          "base_uri": "https://localhost:8080/"
        },
        "id": "cySheidbjC6r",
        "outputId": "86e0eb03-3839-4a86-ba55-1766c3af0477"
      },
      "execution_count": 78,
      "outputs": [
        {
          "output_type": "execute_result",
          "data": {
            "text/plain": [
              "dtype('int64')"
            ]
          },
          "metadata": {},
          "execution_count": 78
        }
      ]
    },
    {
      "cell_type": "code",
      "source": [
        "int_with_string = np.array([4,5,6,'22','65'])\n",
        "int_with_string\n",
        "int_with_string.dtype\n"
      ],
      "metadata": {
        "colab": {
          "base_uri": "https://localhost:8080/"
        },
        "id": "Pl5sXg8SjG5T",
        "outputId": "719f1145-2587-46fd-dda1-358495e64597"
      },
      "execution_count": 80,
      "outputs": [
        {
          "output_type": "execute_result",
          "data": {
            "text/plain": [
              "dtype('<U21')"
            ]
          },
          "metadata": {},
          "execution_count": 80
        }
      ]
    },
    {
      "cell_type": "code",
      "source": [
        "int_with_string = np.array([4,5,6,'22','65'], dtype='int32')\n",
        "int_with_string"
      ],
      "metadata": {
        "colab": {
          "base_uri": "https://localhost:8080/"
        },
        "id": "_zOJRdd6jkZC",
        "outputId": "0eaf6237-cfc6-4289-c3da-47c7fd6a156b"
      },
      "execution_count": 81,
      "outputs": [
        {
          "output_type": "execute_result",
          "data": {
            "text/plain": [
              "array([ 4,  5,  6, 22, 65], dtype=int32)"
            ]
          },
          "metadata": {},
          "execution_count": 81
        }
      ]
    },
    {
      "cell_type": "code",
      "source": [
        "int_with_string = np.array([4,5,6,'22','65'])\n",
        "int_with_string"
      ],
      "metadata": {
        "colab": {
          "base_uri": "https://localhost:8080/"
        },
        "id": "WIlQDM4bjwHO",
        "outputId": "899866aa-a80c-4725-8e74-18da02230186"
      },
      "execution_count": 82,
      "outputs": [
        {
          "output_type": "execute_result",
          "data": {
            "text/plain": [
              "array(['4', '5', '6', '22', '65'], dtype='<U21')"
            ]
          },
          "metadata": {},
          "execution_count": 82
        }
      ]
    },
    {
      "cell_type": "code",
      "source": [
        "\n",
        "int_with_string.dtype = 'int32'\n",
        "print(int_with_string)\n"
      ],
      "metadata": {
        "colab": {
          "base_uri": "https://localhost:8080/"
        },
        "id": "vlUqnCVQj5dN",
        "outputId": "f9893da7-ce69-49b0-a4f7-b61f0771cf22"
      },
      "execution_count": 124,
      "outputs": [
        {
          "output_type": "stream",
          "name": "stdout",
          "text": [
            "[52  0  0  0  0  0  0  0  0  0  0  0  0  0  0  0  0  0  0  0  0 53  0  0\n",
            "  0  0  0  0  0  0  0  0  0  0  0  0  0  0  0  0  0  0 54  0  0  0  0  0\n",
            "  0  0  0  0  0  0  0  0  0  0  0  0  0  0  0 50 50  0  0  0  0  0  0  0\n",
            "  0  0  0  0  0  0  0  0  0  0  0  0 54 53  0  0  0  0  0  0  0  0  0  0\n",
            "  0  0  0  0  0  0  0  0  0]\n"
          ]
        }
      ]
    },
    {
      "cell_type": "code",
      "source": [
        "int_with_string.size"
      ],
      "metadata": {
        "colab": {
          "base_uri": "https://localhost:8080/"
        },
        "id": "kIwf1n5PkXOs",
        "outputId": "841c7d3f-f5b2-461e-b420-d8d29f33fab0"
      },
      "execution_count": 84,
      "outputs": [
        {
          "output_type": "execute_result",
          "data": {
            "text/plain": [
              "105"
            ]
          },
          "metadata": {},
          "execution_count": 84
        }
      ]
    },
    {
      "cell_type": "code",
      "source": [
        "int_with_string.size/21"
      ],
      "metadata": {
        "colab": {
          "base_uri": "https://localhost:8080/"
        },
        "id": "yX-pHx94kh4p",
        "outputId": "7c1fb413-c81f-4a4e-ddd1-62427cb0616f"
      },
      "execution_count": 85,
      "outputs": [
        {
          "output_type": "execute_result",
          "data": {
            "text/plain": [
              "5.0"
            ]
          },
          "metadata": {},
          "execution_count": 85
        }
      ]
    },
    {
      "cell_type": "code",
      "source": [
        "np.array([4,5,6,'22','65']).size"
      ],
      "metadata": {
        "colab": {
          "base_uri": "https://localhost:8080/"
        },
        "id": "D22Hc4CplmEr",
        "outputId": "a5a18dc6-967c-4d5b-d085-b411f39db4d8"
      },
      "execution_count": 86,
      "outputs": [
        {
          "output_type": "execute_result",
          "data": {
            "text/plain": [
              "5"
            ]
          },
          "metadata": {},
          "execution_count": 86
        }
      ]
    },
    {
      "cell_type": "code",
      "source": [
        "int_with_string = np.array([4,5,6,'22','65'])\n",
        "print(int_with_string)\n",
        "print(int_with_string.astype('int32'))\n",
        "\n"
      ],
      "metadata": {
        "colab": {
          "base_uri": "https://localhost:8080/"
        },
        "id": "jep37qxEluP6",
        "outputId": "0b481127-43a0-4221-9627-1be844564dcb"
      },
      "execution_count": 87,
      "outputs": [
        {
          "output_type": "stream",
          "name": "stdout",
          "text": [
            "['4' '5' '6' '22' '65']\n",
            "[ 4  5  6 22 65]\n"
          ]
        }
      ]
    },
    {
      "cell_type": "markdown",
      "source": [
        "EXCERCISE1"
      ],
      "metadata": {
        "id": "SdId9uZCnC_U"
      }
    },
    {
      "cell_type": "code",
      "source": [
        "list1 = np.array(['4','5','6','22','65'])\n",
        "print(list1)\n",
        "print(int_with_string.astype('float'))\n"
      ],
      "metadata": {
        "colab": {
          "base_uri": "https://localhost:8080/"
        },
        "id": "3yefP-t9mVSN",
        "outputId": "3e555bdf-7425-48f5-872a-c2db1f0656fe"
      },
      "execution_count": 90,
      "outputs": [
        {
          "output_type": "stream",
          "name": "stdout",
          "text": [
            "['4' '5' '6' '22' '65']\n",
            "[ 4.  5.  6. 22. 65.]\n"
          ]
        }
      ]
    },
    {
      "cell_type": "code",
      "source": [
        "print(arr3)\n",
        "print(\"\\n\")\n",
        "print(arr3.shape)\n",
        "print(\"\\n\")\n",
        "print(arr3.size)\n",
        "print(\"\\n\")\n",
        "arr5 = arr3.T\n",
        "print(arr5)\n",
        "print(\"\\n\")\n",
        "print(arr5.shape)\n",
        "print(\"\\n\")\n",
        "print(arr5.size)"
      ],
      "metadata": {
        "colab": {
          "base_uri": "https://localhost:8080/"
        },
        "id": "cY2OdG8inHEs",
        "outputId": "763871b4-734a-4fc0-d5c2-a967caa8efe8"
      },
      "execution_count": 97,
      "outputs": [
        {
          "output_type": "stream",
          "name": "stdout",
          "text": [
            "[[1 2 4]\n",
            " [2 3 0]\n",
            " [0 5 1]\n",
            " [3 6 9]]\n",
            "\n",
            "\n",
            "(4, 3)\n",
            "\n",
            "\n",
            "12\n",
            "\n",
            "\n",
            "[[1 2 0 3]\n",
            " [2 3 5 6]\n",
            " [4 0 1 9]]\n",
            "\n",
            "\n",
            "(3, 4)\n",
            "\n",
            "\n",
            "12\n"
          ]
        }
      ]
    },
    {
      "cell_type": "code",
      "source": [
        "print(arr5.astype('bool'))\n"
      ],
      "metadata": {
        "colab": {
          "base_uri": "https://localhost:8080/"
        },
        "id": "-QuNk83ioNEW",
        "outputId": "5778c2d0-93f6-4370-95fd-faf3202f08ff"
      },
      "execution_count": 98,
      "outputs": [
        {
          "output_type": "stream",
          "name": "stdout",
          "text": [
            "[[ True  True False  True]\n",
            " [ True  True  True  True]\n",
            " [ True False  True  True]]\n"
          ]
        }
      ]
    },
    {
      "cell_type": "code",
      "source": [
        "table"
      ],
      "metadata": {
        "colab": {
          "base_uri": "https://localhost:8080/"
        },
        "id": "_S9Yof5bohzE",
        "outputId": "61b5b096-d2c2-4ac2-ce2a-165a985d258a"
      },
      "execution_count": 99,
      "outputs": [
        {
          "output_type": "execute_result",
          "data": {
            "text/plain": [
              "array([5, 7, 9])"
            ]
          },
          "metadata": {},
          "execution_count": 99
        }
      ]
    },
    {
      "cell_type": "code",
      "source": [
        "table[0]"
      ],
      "metadata": {
        "colab": {
          "base_uri": "https://localhost:8080/"
        },
        "id": "ifStv54ZomYs",
        "outputId": "0dca266d-9ea6-4e61-89eb-f28ca21509aa"
      },
      "execution_count": 100,
      "outputs": [
        {
          "output_type": "execute_result",
          "data": {
            "text/plain": [
              "5"
            ]
          },
          "metadata": {},
          "execution_count": 100
        }
      ]
    },
    {
      "cell_type": "code",
      "source": [
        "table[-1]"
      ],
      "metadata": {
        "colab": {
          "base_uri": "https://localhost:8080/"
        },
        "id": "7muYHFMIopfk",
        "outputId": "5e101fb5-8e19-4142-8c14-33aabee78333"
      },
      "execution_count": 101,
      "outputs": [
        {
          "output_type": "execute_result",
          "data": {
            "text/plain": [
              "9"
            ]
          },
          "metadata": {},
          "execution_count": 101
        }
      ]
    },
    {
      "cell_type": "code",
      "source": [
        "table[:2]"
      ],
      "metadata": {
        "colab": {
          "base_uri": "https://localhost:8080/"
        },
        "id": "VxG1cXCDorrz",
        "outputId": "70a93c04-704f-4002-c6d8-233824fc0854"
      },
      "execution_count": 102,
      "outputs": [
        {
          "output_type": "execute_result",
          "data": {
            "text/plain": [
              "array([5, 7])"
            ]
          },
          "metadata": {},
          "execution_count": 102
        }
      ]
    },
    {
      "cell_type": "code",
      "source": [
        "arr5\n",
        "arr5[:2,:2]\n"
      ],
      "metadata": {
        "colab": {
          "base_uri": "https://localhost:8080/"
        },
        "id": "TJwMvMeMoyMr",
        "outputId": "e1e62bcc-321a-4c02-8d75-3977822baf5c"
      },
      "execution_count": 104,
      "outputs": [
        {
          "output_type": "execute_result",
          "data": {
            "text/plain": [
              "array([[1, 2],\n",
              "       [2, 3]])"
            ]
          },
          "metadata": {},
          "execution_count": 104
        }
      ]
    },
    {
      "cell_type": "markdown",
      "source": [
        "EXCERCISE 2"
      ],
      "metadata": {
        "id": "YWTOFfdFp5kg"
      }
    },
    {
      "cell_type": "code",
      "source": [
        "arr6 = np.zeros(50)\n",
        "arr6"
      ],
      "metadata": {
        "colab": {
          "base_uri": "https://localhost:8080/"
        },
        "id": "u1M7LnsXplxK",
        "outputId": "34b3f7ad-9e96-4a28-c174-91a6d99f7de9"
      },
      "execution_count": 105,
      "outputs": [
        {
          "output_type": "execute_result",
          "data": {
            "text/plain": [
              "array([0., 0., 0., 0., 0., 0., 0., 0., 0., 0., 0., 0., 0., 0., 0., 0., 0.,\n",
              "       0., 0., 0., 0., 0., 0., 0., 0., 0., 0., 0., 0., 0., 0., 0., 0., 0.,\n",
              "       0., 0., 0., 0., 0., 0., 0., 0., 0., 0., 0., 0., 0., 0., 0., 0.])"
            ]
          },
          "metadata": {},
          "execution_count": 105
        }
      ]
    },
    {
      "cell_type": "code",
      "source": [
        "arr7 = np.repeat(2,20)\n",
        "arr7"
      ],
      "metadata": {
        "colab": {
          "base_uri": "https://localhost:8080/"
        },
        "id": "eXXLsSydp81e",
        "outputId": "1bdfd7ad-43b1-468a-d6f6-ec55a118666c"
      },
      "execution_count": 106,
      "outputs": [
        {
          "output_type": "execute_result",
          "data": {
            "text/plain": [
              "array([2, 2, 2, 2, 2, 2, 2, 2, 2, 2, 2, 2, 2, 2, 2, 2, 2, 2, 2, 2])"
            ]
          },
          "metadata": {},
          "execution_count": 106
        }
      ]
    },
    {
      "cell_type": "code",
      "source": [
        "a1 = np.arange(0,6.28,0.1)\n",
        "a1"
      ],
      "metadata": {
        "colab": {
          "base_uri": "https://localhost:8080/"
        },
        "id": "XhapgVBDqKP0",
        "outputId": "7b076226-5be7-4c02-8809-38d81d5038c2"
      },
      "execution_count": 107,
      "outputs": [
        {
          "output_type": "execute_result",
          "data": {
            "text/plain": [
              "array([0. , 0.1, 0.2, 0.3, 0.4, 0.5, 0.6, 0.7, 0.8, 0.9, 1. , 1.1, 1.2,\n",
              "       1.3, 1.4, 1.5, 1.6, 1.7, 1.8, 1.9, 2. , 2.1, 2.2, 2.3, 2.4, 2.5,\n",
              "       2.6, 2.7, 2.8, 2.9, 3. , 3.1, 3.2, 3.3, 3.4, 3.5, 3.6, 3.7, 3.8,\n",
              "       3.9, 4. , 4.1, 4.2, 4.3, 4.4, 4.5, 4.6, 4.7, 4.8, 4.9, 5. , 5.1,\n",
              "       5.2, 5.3, 5.4, 5.5, 5.6, 5.7, 5.8, 5.9, 6. , 6.1, 6.2])"
            ]
          },
          "metadata": {},
          "execution_count": 107
        }
      ]
    },
    {
      "cell_type": "code",
      "source": [
        "a2 = np.array([1,2,3,4,5,6,9,8,7,4,1,5])\n",
        "a2\n"
      ],
      "metadata": {
        "colab": {
          "base_uri": "https://localhost:8080/"
        },
        "id": "_npmLpQHqdfF",
        "outputId": "6f3501de-4757-487a-9790-ebd1cac99734"
      },
      "execution_count": 108,
      "outputs": [
        {
          "output_type": "execute_result",
          "data": {
            "text/plain": [
              "array([1, 2, 3, 4, 5, 6, 9, 8, 7, 4, 1, 5])"
            ]
          },
          "metadata": {},
          "execution_count": 108
        }
      ]
    },
    {
      "cell_type": "code",
      "source": [
        "a2[:5]"
      ],
      "metadata": {
        "colab": {
          "base_uri": "https://localhost:8080/"
        },
        "id": "U63mIBMnqtO_",
        "outputId": "8c0c31f0-063d-4d85-d2c8-bbf741e56ab9"
      },
      "execution_count": 110,
      "outputs": [
        {
          "output_type": "execute_result",
          "data": {
            "text/plain": [
              "array([1, 2, 3, 4, 5])"
            ]
          },
          "metadata": {},
          "execution_count": 110
        }
      ]
    },
    {
      "cell_type": "code",
      "source": [
        "a3 = a2[::-1]\n",
        "a3"
      ],
      "metadata": {
        "colab": {
          "base_uri": "https://localhost:8080/"
        },
        "id": "uX3vLjt7q1Ai",
        "outputId": "e40172ec-95f5-457f-cd2c-6fd2291b8902"
      },
      "execution_count": 115,
      "outputs": [
        {
          "output_type": "execute_result",
          "data": {
            "text/plain": [
              "array([5, 1, 4, 7, 8, 9, 6, 5, 4, 3, 2, 1])"
            ]
          },
          "metadata": {},
          "execution_count": 115
        }
      ]
    },
    {
      "cell_type": "code",
      "source": [
        "a2[-3:]"
      ],
      "metadata": {
        "colab": {
          "base_uri": "https://localhost:8080/"
        },
        "id": "LqmO-HtRrR05",
        "outputId": "16e9472f-239a-4b66-e303-cd1118c49bf9"
      },
      "execution_count": 122,
      "outputs": [
        {
          "output_type": "execute_result",
          "data": {
            "text/plain": [
              "array([4, 1, 5])"
            ]
          },
          "metadata": {},
          "execution_count": 122
        }
      ]
    },
    {
      "cell_type": "code",
      "source": [
        "a2[3:6]\n"
      ],
      "metadata": {
        "colab": {
          "base_uri": "https://localhost:8080/"
        },
        "id": "wJPWzcQZrUwx",
        "outputId": "af930c86-e30f-49c5-86e7-291e9c668917"
      },
      "execution_count": 120,
      "outputs": [
        {
          "output_type": "execute_result",
          "data": {
            "text/plain": [
              "array([4, 5, 6])"
            ]
          },
          "metadata": {},
          "execution_count": 120
        }
      ]
    },
    {
      "cell_type": "code",
      "source": [
        "a4 = np.flip(a2)\n",
        "a4"
      ],
      "metadata": {
        "colab": {
          "base_uri": "https://localhost:8080/"
        },
        "id": "tAfM9PZKzeYV",
        "outputId": "4fa70cff-ab53-4054-9f8d-16e3c18af19f"
      },
      "execution_count": 125,
      "outputs": [
        {
          "output_type": "execute_result",
          "data": {
            "text/plain": [
              "array([5, 1, 4, 7, 8, 9, 6, 5, 4, 3, 2, 1])"
            ]
          },
          "metadata": {},
          "execution_count": 125
        }
      ]
    },
    {
      "cell_type": "code",
      "source": [
        "print(a4[::-1])\n"
      ],
      "metadata": {
        "colab": {
          "base_uri": "https://localhost:8080/"
        },
        "id": "tGogK7ayzmIE",
        "outputId": "24809d81-7e9f-466d-d73f-a27dee8ff010"
      },
      "execution_count": 127,
      "outputs": [
        {
          "output_type": "stream",
          "name": "stdout",
          "text": [
            "[1 2 3 4 5 6 9 8 7 4 1 5]\n"
          ]
        }
      ]
    },
    {
      "cell_type": "code",
      "source": [
        "print(a4[::2])\n"
      ],
      "metadata": {
        "colab": {
          "base_uri": "https://localhost:8080/"
        },
        "id": "Pg9W_nV3zvZV",
        "outputId": "6d5c55cf-60c0-4608-fe3a-2b8eaf6a64a0"
      },
      "execution_count": 128,
      "outputs": [
        {
          "output_type": "stream",
          "name": "stdout",
          "text": [
            "[5 4 8 6 4 2]\n"
          ]
        }
      ]
    },
    {
      "cell_type": "markdown",
      "source": [
        "EXCERCISE 3"
      ],
      "metadata": {
        "id": "yIOzFeBXz8DU"
      }
    },
    {
      "cell_type": "code",
      "source": [
        "a2"
      ],
      "metadata": {
        "colab": {
          "base_uri": "https://localhost:8080/"
        },
        "id": "VDXwjM8Az0jE",
        "outputId": "e6d18053-b56b-46c4-b40a-5064f04b0cbb"
      },
      "execution_count": 129,
      "outputs": [
        {
          "output_type": "execute_result",
          "data": {
            "text/plain": [
              "array([1, 2, 3, 4, 5, 6, 9, 8, 7, 4, 1, 5])"
            ]
          },
          "metadata": {},
          "execution_count": 129
        }
      ]
    },
    {
      "cell_type": "code",
      "source": [
        "print(a2[::-1])"
      ],
      "metadata": {
        "colab": {
          "base_uri": "https://localhost:8080/"
        },
        "id": "Rtqup8tXz3xc",
        "outputId": "95d205e0-1cb6-448a-8191-0d1e2e3869c6"
      },
      "execution_count": 130,
      "outputs": [
        {
          "output_type": "stream",
          "name": "stdout",
          "text": [
            "[5 1 4 7 8 9 6 5 4 3 2 1]\n"
          ]
        }
      ]
    },
    {
      "cell_type": "code",
      "source": [
        "print(a2[::4])"
      ],
      "metadata": {
        "colab": {
          "base_uri": "https://localhost:8080/"
        },
        "id": "Kde8s1QR0OVN",
        "outputId": "0ccef92c-1915-4926-810d-3317e6b0af4e"
      },
      "execution_count": 133,
      "outputs": [
        {
          "output_type": "stream",
          "name": "stdout",
          "text": [
            "[1 5 7]\n"
          ]
        }
      ]
    },
    {
      "cell_type": "code",
      "source": [
        "print(a2[::-2])"
      ],
      "metadata": {
        "colab": {
          "base_uri": "https://localhost:8080/"
        },
        "id": "bWbJtT_80a4s",
        "outputId": "d8ed66d8-06ef-427c-9ccd-1838b15a0ad0"
      },
      "execution_count": 134,
      "outputs": [
        {
          "output_type": "stream",
          "name": "stdout",
          "text": [
            "[5 4 8 6 4 2]\n"
          ]
        }
      ]
    },
    {
      "cell_type": "code",
      "source": [
        "np.array([1.65432, 5.98765]).round(3)"
      ],
      "metadata": {
        "colab": {
          "base_uri": "https://localhost:8080/"
        },
        "id": "InTkx4_K0kqk",
        "outputId": "582176e8-f51d-45a9-d06d-37c6f1e9e866"
      },
      "execution_count": 137,
      "outputs": [
        {
          "output_type": "execute_result",
          "data": {
            "text/plain": [
              "array([1.654, 5.988])"
            ]
          },
          "metadata": {},
          "execution_count": 137
        }
      ]
    },
    {
      "cell_type": "code",
      "source": [
        "num = np.arange(0,20,0.7555)\n",
        "num"
      ],
      "metadata": {
        "colab": {
          "base_uri": "https://localhost:8080/"
        },
        "id": "VwjXwzXB08HL",
        "outputId": "07ac8f4a-feea-4cd8-ee8a-814d6b795a08"
      },
      "execution_count": 141,
      "outputs": [
        {
          "output_type": "execute_result",
          "data": {
            "text/plain": [
              "array([ 0.    ,  0.7555,  1.511 ,  2.2665,  3.022 ,  3.7775,  4.533 ,\n",
              "        5.2885,  6.044 ,  6.7995,  7.555 ,  8.3105,  9.066 ,  9.8215,\n",
              "       10.577 , 11.3325, 12.088 , 12.8435, 13.599 , 14.3545, 15.11  ,\n",
              "       15.8655, 16.621 , 17.3765, 18.132 , 18.8875, 19.643 ])"
            ]
          },
          "metadata": {},
          "execution_count": 141
        }
      ]
    },
    {
      "cell_type": "markdown",
      "source": [
        "EXCERCISE 4"
      ],
      "metadata": {
        "id": "wD8JPAJ-1SYL"
      }
    },
    {
      "cell_type": "code",
      "source": [
        "print(\"min = \",    np.min(num).round(2))\n",
        "print(\"max = \",    np.max(num).round(2))\n",
        "print(\"sum = \",    np.sum(num).round(2))\n",
        "print(\"mean = \",   np.mean(num).round(2))\n",
        "print(\"median = \", np.median(num).round(2))\n",
        "print(\"var = \",    np.var(num).round(2))\n",
        "print(\"std = \",    np.std(num).round(2))"
      ],
      "metadata": {
        "colab": {
          "base_uri": "https://localhost:8080/"
        },
        "id": "7GPf1ibj1I16",
        "outputId": "51ddc11f-5265-4571-8821-e7b3d03c5893"
      },
      "execution_count": 152,
      "outputs": [
        {
          "output_type": "stream",
          "name": "stdout",
          "text": [
            "min =  0.0\n",
            "max =  19.64\n",
            "sum =  265.18\n",
            "mean =  9.82\n",
            "median =  9.82\n",
            "var =  34.63\n",
            "std =  5.88\n"
          ]
        }
      ]
    },
    {
      "cell_type": "code",
      "source": [
        "new = np.random.choice([0,9,5,7],100)\n",
        "new"
      ],
      "metadata": {
        "colab": {
          "base_uri": "https://localhost:8080/"
        },
        "id": "Yc9FWAVv12p5",
        "outputId": "82d69e1b-5fa7-4e72-9ba2-e0088cd73b45"
      },
      "execution_count": 145,
      "outputs": [
        {
          "output_type": "execute_result",
          "data": {
            "text/plain": [
              "array([0, 9, 0, 5, 0, 5, 9, 5, 9, 0, 9, 5, 9, 9, 9, 5, 9, 0, 7, 0, 7, 7,\n",
              "       7, 9, 7, 5, 0, 9, 0, 9, 5, 9, 5, 7, 7, 9, 9, 5, 7, 9, 5, 0, 5, 0,\n",
              "       5, 7, 5, 0, 7, 0, 0, 9, 5, 5, 9, 0, 7, 0, 0, 9, 7, 7, 9, 5, 9, 0,\n",
              "       7, 7, 5, 0, 9, 9, 9, 7, 7, 9, 7, 7, 0, 9, 7, 9, 5, 9, 7, 7, 9, 0,\n",
              "       0, 0, 9, 9, 9, 5, 0, 0, 0, 7, 7, 0])"
            ]
          },
          "metadata": {},
          "execution_count": 145
        }
      ]
    },
    {
      "cell_type": "code",
      "source": [
        "np.random.rand(10,20,9)\n"
      ],
      "metadata": {
        "colab": {
          "base_uri": "https://localhost:8080/"
        },
        "id": "DBWoPv4C2MBK",
        "outputId": "cb330d3d-1887-4e76-ccae-235038d125a5"
      },
      "execution_count": 159,
      "outputs": [
        {
          "output_type": "execute_result",
          "data": {
            "text/plain": [
              "array([[[0.17944519, 0.1830022 , 0.12769244, ..., 0.26269295,\n",
              "         0.30339008, 0.21358491],\n",
              "        [0.36036795, 0.00408377, 0.84444847, ..., 0.77640219,\n",
              "         0.6037144 , 0.90600013],\n",
              "        [0.86354543, 0.68652575, 0.70965766, ..., 0.45068521,\n",
              "         0.45766443, 0.12326899],\n",
              "        ...,\n",
              "        [0.63591124, 0.21598882, 0.31542042, ..., 0.96864852,\n",
              "         0.08730382, 0.22670452],\n",
              "        [0.12993877, 0.6037701 , 0.11926718, ..., 0.55370408,\n",
              "         0.44477975, 0.5956197 ],\n",
              "        [0.15928322, 0.91769361, 0.52364984, ..., 0.90369537,\n",
              "         0.97351963, 0.78420275]],\n",
              "\n",
              "       [[0.2682459 , 0.95602483, 0.86799551, ..., 0.25878511,\n",
              "         0.13620802, 0.96724368],\n",
              "        [0.08649158, 0.62462205, 0.91566462, ..., 0.17786827,\n",
              "         0.09059035, 0.58679487],\n",
              "        [0.01422938, 0.86804645, 0.34788199, ..., 0.99264636,\n",
              "         0.85556032, 0.34730237],\n",
              "        ...,\n",
              "        [0.11657687, 0.62881935, 0.7932122 , ..., 0.42161693,\n",
              "         0.52555663, 0.65805118],\n",
              "        [0.08223761, 0.50050288, 0.39045421, ..., 0.33400578,\n",
              "         0.83595461, 0.32755239],\n",
              "        [0.35435529, 0.80756988, 0.48593788, ..., 0.70098437,\n",
              "         0.35210517, 0.73049037]],\n",
              "\n",
              "       [[0.1823925 , 0.58914187, 0.173534  , ..., 0.57702336,\n",
              "         0.50006122, 0.95158846],\n",
              "        [0.91417845, 0.28359931, 0.02851222, ..., 0.2117342 ,\n",
              "         0.40908409, 0.70625393],\n",
              "        [0.35361701, 0.78202875, 0.79979436, ..., 0.57696796,\n",
              "         0.34883521, 0.60412013],\n",
              "        ...,\n",
              "        [0.02084914, 0.7477251 , 0.53163501, ..., 0.39430849,\n",
              "         0.61716512, 0.75639786],\n",
              "        [0.13860367, 0.90979287, 0.24570586, ..., 0.68053091,\n",
              "         0.54419836, 0.02221494],\n",
              "        [0.13453129, 0.02350757, 0.44414878, ..., 0.66663956,\n",
              "         0.54629036, 0.11590457]],\n",
              "\n",
              "       ...,\n",
              "\n",
              "       [[0.83536364, 0.64976403, 0.61050155, ..., 0.29696249,\n",
              "         0.94617739, 0.8208687 ],\n",
              "        [0.77076265, 0.27156597, 0.08771285, ..., 0.2147492 ,\n",
              "         0.33500024, 0.8676159 ],\n",
              "        [0.71673284, 0.19910715, 0.87301713, ..., 0.5103375 ,\n",
              "         0.18352032, 0.34351492],\n",
              "        ...,\n",
              "        [0.59230241, 0.14452545, 0.37878105, ..., 0.73671598,\n",
              "         0.83625775, 0.45416223],\n",
              "        [0.08515728, 0.45353281, 0.60442656, ..., 0.5721051 ,\n",
              "         0.37186391, 0.64215045],\n",
              "        [0.187823  , 0.52237601, 0.5944855 , ..., 0.12441893,\n",
              "         0.44688318, 0.30808743]],\n",
              "\n",
              "       [[0.09387818, 0.06754284, 0.47319181, ..., 0.38150039,\n",
              "         0.79298382, 0.13023616],\n",
              "        [0.72597793, 0.41089171, 0.41952566, ..., 0.48637019,\n",
              "         0.52797355, 0.82208714],\n",
              "        [0.54576075, 0.38576243, 0.85246649, ..., 0.82703806,\n",
              "         0.74203229, 0.15762287],\n",
              "        ...,\n",
              "        [0.08613338, 0.30368375, 0.55533905, ..., 0.75124876,\n",
              "         0.0627696 , 0.76420171],\n",
              "        [0.29572044, 0.31729397, 0.84916779, ..., 0.46379003,\n",
              "         0.4903885 , 0.30524264],\n",
              "        [0.2444089 , 0.53194927, 0.27762   , ..., 0.4355202 ,\n",
              "         0.9053631 , 0.55436267]],\n",
              "\n",
              "       [[0.16889888, 0.64895994, 0.37970796, ..., 0.72891654,\n",
              "         0.01560753, 0.49280719],\n",
              "        [0.04934965, 0.22502815, 0.38881024, ..., 0.40438236,\n",
              "         0.2614711 , 0.11980587],\n",
              "        [0.60830688, 0.75335036, 0.54373151, ..., 0.34261333,\n",
              "         0.01507056, 0.01840547],\n",
              "        ...,\n",
              "        [0.98709256, 0.80221231, 0.69601196, ..., 0.55019905,\n",
              "         0.56618683, 0.94906724],\n",
              "        [0.29966089, 0.4592217 , 0.44193865, ..., 0.0395936 ,\n",
              "         0.37701461, 0.86884339],\n",
              "        [0.53621933, 0.72937149, 0.18448231, ..., 0.43019856,\n",
              "         0.00406417, 0.94235681]]])"
            ]
          },
          "metadata": {},
          "execution_count": 159
        }
      ]
    },
    {
      "cell_type": "code",
      "source": [
        "mu , sigma = 0 , 0.1\n",
        "a = np.random.normal(mu , sigma ,1000)\n",
        "\n",
        "a"
      ],
      "metadata": {
        "colab": {
          "base_uri": "https://localhost:8080/"
        },
        "id": "rswAIQfr2etB",
        "outputId": "f4cad0fa-b458-4a53-acca-93917496fb07"
      },
      "execution_count": 160,
      "outputs": [
        {
          "output_type": "execute_result",
          "data": {
            "text/plain": [
              "array([-9.18692023e-02,  7.63574890e-02, -4.13699117e-02,  5.52555410e-02,\n",
              "       -5.05995219e-02, -5.10078024e-02, -4.37616878e-02,  6.01270313e-02,\n",
              "       -7.64368004e-02, -5.34068862e-03,  1.08382737e-01, -3.24093321e-02,\n",
              "        1.55655966e-01,  1.50192845e-01, -1.07569884e-01, -6.25155074e-02,\n",
              "       -1.47401721e-01, -1.15533212e-02, -1.33656431e-01, -1.13557374e-01,\n",
              "       -6.41707298e-02,  4.30002895e-02, -3.70017960e-02, -3.89631015e-03,\n",
              "       -3.66251095e-02,  2.85287054e-02, -3.84808240e-02,  2.76510272e-02,\n",
              "       -9.80953721e-02,  8.62650794e-02, -1.44871451e-02,  1.15209305e-01,\n",
              "       -6.21308437e-02, -3.02933998e-02, -1.15457895e-01,  4.39518786e-02,\n",
              "       -7.36963916e-02,  7.70106487e-02, -1.31024312e-01, -5.07161423e-02,\n",
              "        7.24780562e-03,  1.26790163e-01, -5.60664394e-02,  1.52995824e-01,\n",
              "       -1.56789721e-01, -3.54102364e-02, -1.74042604e-01,  1.39881312e-01,\n",
              "        8.67036239e-02,  4.81569222e-02,  1.07511886e-01,  4.61465685e-02,\n",
              "       -3.70620645e-02, -8.90940776e-02,  9.72669941e-03, -4.14448665e-02,\n",
              "       -6.44772368e-03,  4.31160531e-02, -1.79450460e-01,  1.23910873e-01,\n",
              "        3.34377692e-02,  9.43786711e-02, -3.62881951e-02,  9.28773677e-02,\n",
              "        2.15037654e-02,  1.15345081e-01, -2.34966702e-01,  3.95751429e-02,\n",
              "        8.85496156e-02, -9.53317661e-02,  6.60445841e-03,  1.43340594e-01,\n",
              "        7.28090281e-02, -1.02902394e-01, -9.39623106e-02, -1.76575511e-01,\n",
              "       -2.45852786e-02,  8.48529867e-02, -1.46698939e-01,  4.99889571e-02,\n",
              "        2.06538656e-02,  9.75613360e-02, -1.23830216e-01,  2.98253179e-02,\n",
              "        1.09485354e-02, -1.87742226e-01, -1.09091530e-01, -2.89689889e-02,\n",
              "       -5.83758507e-02,  1.42438652e-01,  9.07013861e-02, -4.54663771e-02,\n",
              "        5.66832551e-02, -5.01891768e-02, -3.67071452e-02,  5.34783510e-03,\n",
              "       -5.85506733e-02, -8.07832659e-02, -4.26455235e-02,  1.22205788e-01,\n",
              "        1.00924282e-02,  2.54783629e-02, -4.99952476e-02,  2.48135006e-01,\n",
              "        9.72284814e-03,  5.36143457e-03,  5.30425478e-04,  1.06144276e-02,\n",
              "       -1.93018591e-01,  1.10728764e-01,  1.30280738e-01, -5.29597850e-03,\n",
              "        1.35046570e-02,  1.01785842e-01,  8.01687066e-02,  1.04850704e-02,\n",
              "        5.51803583e-02,  7.91995536e-02, -4.59825302e-02,  1.85644389e-01,\n",
              "        1.76701644e-01, -5.22325717e-02,  2.29779820e-01, -1.83086167e-03,\n",
              "       -5.40532069e-02,  1.99250556e-01, -2.58631052e-02,  2.46290115e-01,\n",
              "        4.76099552e-02, -1.93350195e-01, -1.26352962e-01,  8.15001691e-03,\n",
              "       -9.76656005e-03, -6.06346908e-02, -3.69728273e-03, -1.09536187e-01,\n",
              "        1.17032675e-01,  4.49713718e-03,  9.04192059e-02,  1.54890988e-02,\n",
              "       -3.16249906e-02, -4.47303678e-02,  3.96827084e-02,  1.20160492e-02,\n",
              "       -6.32662924e-02,  1.23902602e-01,  2.56450299e-02,  8.48453323e-02,\n",
              "       -3.39028568e-02, -1.82120236e-02,  3.93687842e-02,  6.06162213e-02,\n",
              "       -6.20593117e-03, -5.45156464e-02,  1.10839160e-01, -1.64030238e-01,\n",
              "       -4.35456813e-02,  3.04135542e-02,  2.47393346e-02, -1.18344367e-01,\n",
              "       -8.23644123e-02,  5.98456169e-03,  1.92546448e-01, -4.12026022e-02,\n",
              "        2.88566787e-02,  7.61983527e-02,  8.74799803e-02,  6.35134472e-02,\n",
              "        7.70236304e-03,  9.22833356e-03,  1.14078514e-01, -3.04761500e-02,\n",
              "        2.77890043e-02,  1.54314722e-01, -1.57860403e-01,  2.35054580e-02,\n",
              "       -5.71966041e-02, -1.70033349e-02, -5.68730814e-02,  4.44596650e-02,\n",
              "        1.24537334e-01,  7.58562385e-02,  4.84845937e-02, -8.20369178e-02,\n",
              "       -8.46842195e-02, -1.77410313e-02, -4.42730905e-02, -1.30373682e-01,\n",
              "        2.15209632e-01, -7.51455539e-02,  2.36493483e-01,  1.12282414e-03,\n",
              "       -1.53083148e-01,  1.38750550e-02, -2.40503538e-01,  4.42667516e-02,\n",
              "        1.39448994e-01, -2.82510669e-02,  7.36536448e-03,  1.07736267e-01,\n",
              "       -4.39970419e-02,  3.11086263e-01, -5.68540154e-02, -6.67461878e-02,\n",
              "        1.55090149e-01,  1.13641793e-01,  3.56555822e-02, -4.52011092e-02,\n",
              "        4.83295105e-02,  3.74593491e-02,  2.51476474e-02,  1.61980959e-01,\n",
              "        5.34576939e-02, -9.03454698e-02,  4.70531963e-02,  1.22002705e-01,\n",
              "        6.06000454e-03, -3.05118677e-02, -1.52242178e-01,  2.00855345e-01,\n",
              "        1.34139531e-01,  5.83951680e-02, -3.25670613e-02, -8.68589503e-02,\n",
              "        2.16224979e-01, -1.04671639e-01,  1.44550168e-02, -1.18434318e-02,\n",
              "        9.90248398e-02,  1.13423301e-01, -3.06273013e-02, -2.31504677e-02,\n",
              "        7.89326427e-02,  3.88462402e-02,  3.79089822e-02,  1.77140151e-02,\n",
              "        2.74414717e-02,  5.54180711e-02, -4.16332960e-02,  3.46063037e-02,\n",
              "        3.14080627e-02, -1.29206714e-01,  4.54312826e-02,  7.97792664e-02,\n",
              "        1.17914522e-01,  7.38647340e-02, -1.34036206e-03,  1.07263286e-01,\n",
              "        1.55581800e-02, -2.53467944e-02,  1.44054957e-01, -1.59829884e-03,\n",
              "        8.34332267e-02,  3.01936304e-02, -5.55912083e-02, -3.09349134e-02,\n",
              "        1.12404910e-01,  1.12655338e-01,  1.48970235e-01,  4.15424109e-03,\n",
              "        1.73290283e-01,  1.38840488e-01,  1.23379747e-01,  1.13807959e-01,\n",
              "        2.15368954e-01,  3.54037552e-02,  9.66458093e-02, -2.20827376e-03,\n",
              "       -1.20391800e-01, -1.31778543e-01, -5.20716613e-02,  9.36175910e-02,\n",
              "       -9.52000870e-02, -1.36307394e-02, -3.48534619e-02,  1.53348471e-01,\n",
              "       -1.65881067e-01,  1.04042464e-01,  2.49802149e-02, -1.06718730e-01,\n",
              "       -1.70692062e-03, -4.77406361e-02, -2.01502779e-01,  2.36487119e-01,\n",
              "       -1.39072713e-01, -1.16507134e-01,  2.28555919e-02, -6.14213066e-02,\n",
              "       -2.74520541e-01,  5.21306287e-02,  1.70666191e-02, -1.58014958e-02,\n",
              "        1.79579364e-01, -1.59086609e-02, -3.61318407e-02, -2.94021039e-02,\n",
              "        9.71653667e-02,  5.38713927e-02, -8.02956514e-02, -1.16550011e-01,\n",
              "        1.48215174e-01, -2.79417710e-01, -1.44790564e-02, -5.61689366e-02,\n",
              "        1.08877885e-01,  1.03182958e-01,  1.28983008e-01, -7.99088286e-03,\n",
              "       -9.01854746e-02, -3.58743938e-02, -6.23082897e-02,  4.56487651e-02,\n",
              "        1.53124440e-01, -2.58440145e-01, -8.73853344e-04,  4.08819349e-02,\n",
              "       -1.24514702e-01, -1.54448889e-01,  4.40742600e-02, -1.73166004e-01,\n",
              "       -1.80923645e-02, -3.96377267e-02,  5.60480621e-02,  1.16554881e-01,\n",
              "        4.65396150e-02,  5.79490793e-02,  1.58362310e-01,  9.57336679e-02,\n",
              "       -1.90008237e-01,  1.24386244e-01, -9.09918980e-02, -1.33601650e-01,\n",
              "        4.75442673e-02,  3.01806162e-02, -6.68804779e-02,  6.01756707e-02,\n",
              "       -1.92956263e-01, -1.13862666e-01,  1.08454318e-01, -3.97780167e-02,\n",
              "        7.87299250e-03, -2.54829680e-02, -2.53940651e-02, -7.62884138e-02,\n",
              "       -1.25797174e-01,  1.50287157e-02, -1.59836637e-02, -7.36215522e-02,\n",
              "       -8.85001167e-03, -1.72201498e-01,  8.98691864e-02,  9.88340428e-02,\n",
              "        2.37293763e-03,  2.91314794e-01,  7.93937037e-02,  1.14728362e-01,\n",
              "       -1.53100530e-01,  2.23966918e-02,  6.60387929e-02, -5.68105280e-02,\n",
              "       -2.60165526e-02, -4.59388713e-02, -3.51764177e-02,  1.85681056e-01,\n",
              "       -1.37473824e-01,  1.00279393e-01,  3.45808958e-02,  3.58829826e-02,\n",
              "        5.64480836e-02, -1.09727641e-01, -1.89779688e-01,  9.92907259e-02,\n",
              "        2.46894331e-02, -3.29263115e-04,  1.12014821e-01, -3.18638847e-02,\n",
              "        8.94592639e-02,  7.32917280e-02, -1.25278398e-01,  2.76638190e-02,\n",
              "       -4.33573180e-03,  1.08581229e-02,  1.47454883e-01,  9.97325229e-02,\n",
              "       -5.34379052e-02, -9.06289921e-03,  1.34080331e-01,  1.06513128e-02,\n",
              "       -5.52457797e-02,  1.92261536e-01,  1.89566497e-01,  2.22626607e-01,\n",
              "        1.17484661e-01,  6.74917010e-02,  8.06415673e-02,  1.33297289e-01,\n",
              "        2.11668481e-02,  3.83715161e-02, -6.28710336e-02,  6.80725122e-02,\n",
              "        2.02553204e-01, -8.27687094e-02, -3.10382953e-02, -1.41518001e-01,\n",
              "       -5.63344017e-02, -3.72771442e-02,  1.14665005e-01,  2.82950666e-02,\n",
              "        4.73271061e-02,  8.12017739e-02,  1.00145132e-02, -9.99542764e-02,\n",
              "        3.40718682e-02, -4.88538371e-02, -9.45849648e-02,  8.70621728e-02,\n",
              "       -3.79414268e-02,  1.41086533e-01,  7.30975887e-02,  1.83821365e-01,\n",
              "       -1.31910396e-02,  1.65635239e-02, -4.21927470e-02, -1.54764587e-01,\n",
              "       -9.35032648e-03, -5.68069477e-02, -1.82270328e-01,  7.80207211e-02,\n",
              "       -1.23104035e-01,  1.93072398e-01,  4.50369274e-02, -7.91851377e-02,\n",
              "       -8.38943442e-02, -5.34622955e-02, -6.36640842e-02,  1.43386003e-01,\n",
              "       -4.36432020e-02, -1.25061671e-01,  8.72729464e-02,  1.25407098e-01,\n",
              "       -2.15453711e-01,  4.27179936e-02,  1.14876394e-02, -2.48185331e-02,\n",
              "       -3.79399533e-02,  1.74558326e-01, -3.20093310e-04, -1.04995213e-01,\n",
              "       -3.07543482e-02, -1.31586628e-01,  2.17543747e-03,  2.47352586e-02,\n",
              "       -1.95698859e-01, -8.60744418e-02,  1.52797274e-01,  6.06041806e-02,\n",
              "        2.42498949e-02,  9.48625532e-02,  2.73775221e-02,  1.99240193e-01,\n",
              "        9.61244233e-04, -1.96111718e-01,  6.32792371e-02,  2.83372628e-03,\n",
              "        1.78202140e-01, -1.39383529e-01, -4.10184247e-02,  1.20404310e-02,\n",
              "        1.57760835e-01,  1.43725668e-01,  4.86062083e-02, -3.30245278e-02,\n",
              "       -7.31896830e-02, -9.76294601e-02, -3.78586247e-02, -6.59556421e-02,\n",
              "        2.85074804e-02, -5.05425798e-02, -5.57168804e-02,  1.39172474e-01,\n",
              "        6.17298701e-02, -4.46891042e-02,  8.86198029e-02,  1.06840139e-02,\n",
              "       -6.99213932e-02,  7.91281316e-04,  1.90176671e-01, -1.20964436e-01,\n",
              "       -1.76806769e-01,  1.82920683e-01,  1.17515905e-01,  6.07847916e-02,\n",
              "       -1.96691854e-02, -2.09284918e-01,  1.60329978e-01, -1.57243951e-01,\n",
              "        3.15991368e-02,  1.19334031e-01,  6.70761256e-02, -1.53263075e-02,\n",
              "       -1.44199449e-01,  8.86840908e-02, -8.63149620e-02, -1.47274037e-02,\n",
              "        1.43099806e-01,  7.76231810e-02, -1.52184158e-02,  1.63977854e-01,\n",
              "       -1.17042805e-01, -2.95101425e-02, -1.44680145e-01,  4.22934140e-02,\n",
              "       -5.82690010e-02, -1.79646811e-02,  9.32798204e-02,  9.72148220e-02,\n",
              "        4.90714203e-02,  1.99032630e-03, -7.51736712e-02,  8.18044779e-02,\n",
              "        5.14206242e-02,  1.24863170e-01, -1.02671209e-01, -1.19477882e-01,\n",
              "       -6.47303004e-02, -2.16251248e-02, -1.95349812e-01,  2.88722611e-02,\n",
              "       -1.93280984e-02, -3.70217460e-02,  5.84294609e-02,  8.78708031e-02,\n",
              "       -3.64013002e-02, -1.50050960e-01,  7.77657090e-02,  2.49217782e-02,\n",
              "       -1.60914881e-01,  1.30528823e-01, -4.66263219e-02, -2.24799419e-02,\n",
              "       -3.01605029e-02,  1.09051080e-01,  1.02378444e-01, -6.10978908e-02,\n",
              "       -1.08450624e-01, -7.17651548e-02, -5.00398169e-02,  8.17617429e-02,\n",
              "       -1.20035300e-01, -1.98151978e-01, -5.80731083e-02,  1.20723124e-01,\n",
              "        1.15713872e-01,  2.07275720e-02, -1.43699431e-01, -1.53909510e-02,\n",
              "       -1.68403950e-01,  6.57141852e-03,  1.74727971e-02,  1.94784677e-01,\n",
              "       -1.33031388e-01, -1.78661315e-01, -9.78090950e-02, -7.20803638e-02,\n",
              "        8.87584908e-02,  1.57302492e-01,  6.36593968e-02,  9.83312748e-02,\n",
              "       -1.19867457e-02,  1.32496942e-02,  1.02177828e-01,  1.77580064e-02,\n",
              "       -8.56064552e-03,  1.19491259e-01,  6.11885468e-03,  4.25520955e-02,\n",
              "       -3.49324407e-02, -2.31705970e-02,  4.22706354e-02,  3.20594519e-03,\n",
              "       -1.31838324e-01, -1.08201191e-01,  7.11056173e-02, -5.03736927e-02,\n",
              "       -2.22408199e-01, -1.59547891e-01,  1.92503620e-02,  8.65218237e-02,\n",
              "       -1.36740707e-01, -1.39824749e-02,  3.26425096e-02,  2.47722951e-01,\n",
              "        8.24409431e-02,  2.07113936e-01, -3.73879294e-02,  1.20904771e-01,\n",
              "        5.80360754e-02, -1.78713777e-01,  1.34854883e-01,  2.17590890e-01,\n",
              "       -2.43012914e-02,  1.00043847e-01, -1.01400696e-02, -1.00016345e-01,\n",
              "       -1.46878972e-01,  9.61698475e-02, -7.33617687e-02,  8.44991072e-02,\n",
              "       -3.11278228e-02, -6.62746814e-02, -1.36421781e-01, -5.08828927e-02,\n",
              "        6.12430158e-02, -2.88337340e-02,  4.25008462e-02,  5.16162385e-02,\n",
              "       -3.77529705e-02, -3.91841111e-02, -7.34996285e-02, -1.57813422e-02,\n",
              "       -3.47540994e-02, -6.05708757e-03,  2.55761316e-02,  1.21831938e-02,\n",
              "       -6.37347886e-02, -1.26059958e-01, -8.24919283e-02, -8.01747408e-02,\n",
              "        3.14892958e-02, -2.05764071e-01, -4.95596320e-03, -1.37345384e-01,\n",
              "       -1.47823404e-01, -6.92187309e-02, -1.55301863e-01,  2.30000199e-01,\n",
              "       -1.06133602e-02, -5.30321516e-02, -3.92154900e-03,  3.38243232e-02,\n",
              "        2.13303017e-03,  3.26361278e-02,  7.60155648e-02, -1.10203585e-01,\n",
              "        1.43011307e-03,  1.36917893e-01,  7.32085241e-03,  2.12773100e-02,\n",
              "       -1.89759296e-01,  3.36398665e-02, -9.93656622e-02,  2.93945596e-02,\n",
              "        5.18677243e-02,  9.09534821e-03,  1.66521263e-01,  1.06888228e-02,\n",
              "        1.58037919e-02, -1.17798755e-01,  2.26614405e-03, -5.55414701e-02,\n",
              "       -1.16223545e-01, -1.41477423e-01,  1.90433112e-01, -9.65767167e-02,\n",
              "        1.31446266e-01, -2.45134727e-02,  2.38186213e-01, -7.21158506e-02,\n",
              "        9.97309238e-03, -1.57120623e-01,  2.07950588e-01, -8.89373974e-03,\n",
              "        1.79393591e-02,  1.59961609e-03,  2.76087736e-01, -7.31732673e-02,\n",
              "       -4.90664304e-02, -1.62651916e-03,  1.96600218e-01,  1.03519742e-01,\n",
              "       -9.44587530e-02, -1.04826854e-01, -3.76161762e-02, -1.85327781e-02,\n",
              "       -3.22252239e-02,  1.19440606e-01,  7.81270978e-02,  9.87901783e-02,\n",
              "        2.07353936e-02, -1.42025167e-01, -2.19213892e-02, -3.20766560e-01,\n",
              "        1.34135126e-03, -9.45507191e-02, -3.35880448e-02,  1.75182909e-01,\n",
              "        1.22188594e-02,  1.53170005e-01, -1.78034626e-01,  1.30895613e-01,\n",
              "       -8.95520898e-02, -2.46673943e-02,  3.94543260e-02, -8.51267958e-04,\n",
              "       -1.01583752e-01, -3.78191566e-02,  7.21429633e-02, -2.77587744e-02,\n",
              "       -4.25218806e-02,  2.22686777e-01,  2.03981909e-01, -6.26224977e-03,\n",
              "       -3.36976509e-02, -3.81341533e-02, -5.72254552e-03,  9.31767466e-02,\n",
              "       -4.21740699e-02, -8.73876946e-03,  5.61899305e-02,  6.28083703e-02,\n",
              "       -8.84218143e-02,  2.31686480e-03, -2.19410470e-02, -2.18508290e-02,\n",
              "        5.64149321e-02, -9.20217201e-02, -4.05490681e-02,  8.89331811e-02,\n",
              "       -2.24175268e-02, -1.48118053e-02, -3.62351170e-02, -8.66735584e-02,\n",
              "       -1.02340409e-01,  1.47525361e-02,  7.07123409e-02, -4.40170703e-03,\n",
              "        1.85860021e-02,  1.42890385e-01, -1.31607934e-01, -3.15157050e-02,\n",
              "        3.24157360e-02,  3.87647458e-03, -9.42372114e-02, -5.25470291e-02,\n",
              "       -5.43929461e-02, -1.18252740e-01, -8.21599085e-02, -2.14125438e-02,\n",
              "        6.57445300e-02, -4.11041101e-02, -6.57426287e-02,  1.45430190e-01,\n",
              "       -1.42052657e-02,  4.22229229e-02, -2.26176409e-01,  1.44391014e-01,\n",
              "       -2.13860677e-01, -2.59244160e-01, -1.99851741e-02,  3.10308630e-02,\n",
              "        1.28163495e-01,  1.15267302e-01,  1.32025602e-01,  3.71116533e-02,\n",
              "        2.66521832e-02,  1.17798363e-02,  8.80465097e-02,  5.27921047e-02,\n",
              "       -9.95921743e-02,  7.40588673e-02,  3.95821665e-02,  6.54203234e-02,\n",
              "        9.19018843e-02, -2.11838753e-02,  4.61436501e-02,  3.48630447e-03,\n",
              "        6.18957234e-02,  8.09730164e-02,  1.06516849e-01,  3.07272526e-02,\n",
              "       -7.40006034e-02,  1.27480467e-01, -1.36931747e-02, -4.57198424e-02,\n",
              "        1.30168546e-01,  1.01876738e-01, -1.15103643e-01,  2.35770330e-01,\n",
              "       -1.59704148e-01, -4.86717481e-02,  1.90160690e-01,  7.94012690e-02,\n",
              "       -1.96830218e-01, -7.04610665e-02, -1.48799763e-02,  7.49909663e-02,\n",
              "       -1.15256907e-01, -1.16616318e-02, -8.29147812e-02,  1.08901241e-01,\n",
              "        1.65560961e-03, -3.79252310e-02, -7.07394544e-02,  1.20057989e-01,\n",
              "        2.69572561e-02, -8.35659299e-02,  4.46978166e-02,  1.01854895e-01,\n",
              "       -3.93636849e-03, -3.94600489e-02,  1.57477888e-01, -3.99669956e-02,\n",
              "       -6.91118887e-02, -3.49151196e-02,  1.91306835e-01,  8.57553797e-02,\n",
              "       -3.27033365e-02, -9.51485632e-02, -5.48720156e-02,  3.86195649e-02,\n",
              "       -7.24036860e-02, -2.93688763e-02,  1.75492718e-02, -3.78929535e-02,\n",
              "       -8.21743399e-02,  7.10241624e-02,  2.42581326e-02,  1.09380612e-01,\n",
              "       -5.73982480e-02,  3.63864157e-02,  4.19838412e-02, -3.41053096e-02,\n",
              "       -1.97636199e-01, -3.01976810e-01,  8.51042852e-02,  1.07693717e-02,\n",
              "       -7.28122190e-02, -2.34512246e-02,  4.47683977e-03, -9.00435437e-02,\n",
              "        8.31502378e-03,  1.52648082e-02,  5.31333418e-02, -4.87805333e-02,\n",
              "        3.67395756e-02,  1.83654832e-01, -1.07231810e-01, -1.33614672e-01,\n",
              "       -7.90578904e-02,  7.32338181e-02, -6.31135123e-02, -2.02192433e-03,\n",
              "       -1.17484037e-01,  4.92302816e-02, -5.06212301e-02,  9.98654062e-02,\n",
              "       -9.51100686e-02,  5.80434192e-03, -2.78248564e-02,  2.62686249e-02,\n",
              "       -1.28392488e-01,  5.07815810e-02,  5.20347050e-02, -2.06345754e-01,\n",
              "        2.00680625e-01,  2.31739754e-01,  2.49723773e-01,  9.40926690e-02,\n",
              "       -2.19919339e-03,  2.73272592e-02, -1.38013467e-02, -9.68743500e-02,\n",
              "        1.14568232e-01,  1.00512381e-01,  1.64944436e-01,  9.27068565e-02,\n",
              "       -3.48777957e-02, -8.59486830e-02, -4.27555399e-02, -4.20654693e-02,\n",
              "       -6.92263138e-02,  2.35354001e-02, -5.02950095e-02, -1.65248327e-01,\n",
              "        2.07229238e-02,  6.61019281e-02,  1.34563207e-01, -1.69240152e-01,\n",
              "        1.14230207e-02, -9.78558241e-02,  4.43419341e-02,  1.59258254e-01,\n",
              "       -4.51076179e-02,  2.29280062e-01, -5.64716872e-02,  7.97234364e-03,\n",
              "        9.53431446e-03,  3.85986487e-02, -7.29731180e-02,  1.59976561e-01,\n",
              "       -9.51990970e-02,  2.32743510e-02,  8.74989645e-02, -3.33791078e-02,\n",
              "       -7.57532641e-03,  1.20079932e-01,  7.08044396e-02, -7.72965408e-02,\n",
              "       -7.18688295e-03,  4.40919114e-03,  3.54747816e-02,  2.57343774e-02,\n",
              "        7.25113441e-02, -6.71924029e-03,  8.52243204e-02,  4.64892973e-02,\n",
              "        1.01624118e-01,  7.88200465e-02,  5.65598510e-02,  1.84468825e-02,\n",
              "       -8.35335669e-02, -1.03806552e-01,  1.23005949e-01, -2.15074090e-02,\n",
              "       -9.54206454e-03, -6.49573576e-02,  1.39571001e-01,  5.01978573e-02,\n",
              "       -6.63239521e-02, -6.61215532e-03,  1.06662788e-01, -6.25311999e-02,\n",
              "        1.30821934e-02,  1.04216366e-01, -3.42263285e-02, -3.67130927e-02,\n",
              "       -2.83815665e-01,  4.70817538e-02, -5.30834642e-02, -2.04812846e-02,\n",
              "       -6.37445277e-02,  9.12584277e-02, -7.23158462e-02, -4.29555085e-02,\n",
              "       -3.23061034e-02,  8.88486813e-03, -9.99446577e-02,  1.08081942e-01,\n",
              "        4.03890853e-02,  1.52156243e-01, -5.03369504e-02,  1.06568057e-01,\n",
              "       -1.37155089e-01, -1.74731989e-01, -2.91448333e-02,  9.79923812e-02,\n",
              "        5.36443048e-02, -5.49805326e-02, -9.32091936e-02, -1.15320860e-01,\n",
              "        1.34821659e-01, -2.17919443e-01,  6.31339808e-03, -2.26390409e-02,\n",
              "        7.18685674e-02,  7.45479429e-02, -4.37307899e-02, -8.43542632e-02,\n",
              "        8.67754642e-03,  1.13197009e-03,  1.32243016e-01, -1.49317043e-01,\n",
              "        5.20999304e-02,  4.78482008e-03, -3.84848286e-02, -2.64566003e-02,\n",
              "       -1.15524415e-01,  2.39607525e-01,  1.23192359e-01,  2.36210308e-01,\n",
              "        1.70310888e-02, -4.07030840e-03, -6.97790330e-02, -3.79397913e-02,\n",
              "       -4.76950065e-02,  9.84769311e-02,  1.12405687e-01,  3.26011872e-02,\n",
              "       -1.12003246e-01,  2.60137325e-02, -2.08536119e-02,  1.76145776e-01,\n",
              "       -6.09787880e-03,  4.95540721e-02,  8.27540653e-02, -1.08986156e-01,\n",
              "       -4.71371698e-02, -1.71576722e-01,  2.72662240e-02, -4.73605986e-02])"
            ]
          },
          "metadata": {},
          "execution_count": 160
        }
      ]
    },
    {
      "cell_type": "markdown",
      "source": [
        "EXCERCISE 5"
      ],
      "metadata": {
        "id": "GlMDK1Hs5Ys_"
      }
    },
    {
      "cell_type": "code",
      "source": [
        "dice_res = np.random.choice([1,2,3,4,5,6],10)\n",
        "dice_res"
      ],
      "metadata": {
        "colab": {
          "base_uri": "https://localhost:8080/"
        },
        "id": "zX45ZvNu2wuI",
        "outputId": "edfd0e5d-6eca-49d5-b000-0b4d43700005"
      },
      "execution_count": 158,
      "outputs": [
        {
          "output_type": "execute_result",
          "data": {
            "text/plain": [
              "array([4, 6, 3, 1, 3, 2, 5, 6, 4, 3])"
            ]
          },
          "metadata": {},
          "execution_count": 158
        }
      ]
    },
    {
      "cell_type": "code",
      "source": [
        "coin_res = np.random.choice(['h','h','t'],3)\n",
        "coin_res "
      ],
      "metadata": {
        "colab": {
          "base_uri": "https://localhost:8080/"
        },
        "id": "tocja7Ay3C7I",
        "outputId": "ad9bb042-1c91-4323-9f16-3276ea30134e"
      },
      "execution_count": 168,
      "outputs": [
        {
          "output_type": "execute_result",
          "data": {
            "text/plain": [
              "array(['h', 't', 'h'], dtype='<U1')"
            ]
          },
          "metadata": {},
          "execution_count": 168
        }
      ]
    }
  ]
}