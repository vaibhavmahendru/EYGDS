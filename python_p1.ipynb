{
  "nbformat": 4,
  "nbformat_minor": 0,
  "metadata": {
    "colab": {
      "provenance": [],
      "authorship_tag": "ABX9TyP3AfHDLnRH6vjnjv4pW4Jr",
      "include_colab_link": true
    },
    "kernelspec": {
      "name": "python3",
      "display_name": "Python 3"
    },
    "language_info": {
      "name": "python"
    }
  },
  "cells": [
    {
      "cell_type": "markdown",
      "metadata": {
        "id": "view-in-github",
        "colab_type": "text"
      },
      "source": [
        "<a href=\"https://colab.research.google.com/github/vaibhavmahendru/EYGDS/blob/main/python_p1.ipynb\" target=\"_parent\"><img src=\"https://colab.research.google.com/assets/colab-badge.svg\" alt=\"Open In Colab\"/></a>"
      ]
    },
    {
      "cell_type": "markdown",
      "source": [
        "Input 20 numbers from the user,\n",
        "1. Conduct linear serach after taking a number from the user\n",
        "2. Conduct binary search after taking a number from the user\n",
        "3. Conduct bubble sorting after taking a number from the user\n",
        "4. Explain in a paragraph what is bubble sorting?\n",
        "5. Find mean, median and mode of the dataset.\n",
        "6. Find all prime numbers in the list."
      ],
      "metadata": {
        "id": "XLtcbJfa3U25"
      }
    },
    {
      "cell_type": "code",
      "source": [
        "list1 =[]\n",
        "n = 20\n",
        "for i in range(n):\n",
        "  n_input = int(input('Enter input : ' ))\n",
        "  list1.append(n_input)\n",
        "\n",
        "print(list1)\n"
      ],
      "metadata": {
        "colab": {
          "base_uri": "https://localhost:8080/"
        },
        "id": "1tAarSch4ni4",
        "outputId": "747cfdab-6184-4d96-ec3b-c13c7f89fd0b"
      },
      "execution_count": 47,
      "outputs": [
        {
          "output_type": "stream",
          "name": "stdout",
          "text": [
            "Enter input : 11\n",
            "Enter input : 22\n",
            "Enter input : 33\n",
            "Enter input : 44\n",
            "Enter input : 55\n",
            "Enter input : 66\n",
            "Enter input : 99\n",
            "Enter input : 88\n",
            "Enter input : 77\n",
            "Enter input : 71\n",
            "Enter input : 82\n",
            "Enter input : 93\n",
            "Enter input : 37\n",
            "Enter input : 19\n",
            "Enter input : 13\n",
            "Enter input : 45\n",
            "Enter input : 28\n",
            "Enter input : 37\n",
            "Enter input : 18\n",
            "Enter input : 221\n",
            "[11, 22, 33, 44, 55, 66, 99, 88, 77, 71, 82, 93, 37, 19, 13, 45, 28, 37, 18, 221]\n"
          ]
        }
      ]
    },
    {
      "cell_type": "code",
      "source": [
        "def linear_Search(list1, l, num1):  \n",
        "    for i in range(0,l):  \n",
        "        if (list1[i] == num1):  \n",
        "            return i  \n",
        "    return -1  \n",
        "\n",
        "num1 = int(input(\"number : \"))\n",
        "l = len(list1)\n",
        "\n",
        "res = linear_Search(list1,l,num1)\n",
        "if(res == -1):\n",
        "  print(\"not found \")\n",
        "else:\n",
        "  print(\"index : \",res)\n",
        " \n",
        "\n"
      ],
      "metadata": {
        "colab": {
          "base_uri": "https://localhost:8080/"
        },
        "id": "vJT0Hbc97DZG",
        "outputId": "daf62cbe-c08e-45ca-c10b-a52830603d3f"
      },
      "execution_count": 48,
      "outputs": [
        {
          "output_type": "stream",
          "name": "stdout",
          "text": [
            "number : 22\n",
            "index :  1\n"
          ]
        }
      ]
    },
    {
      "cell_type": "code",
      "source": [
        "def binary_search(list1,low,high,num2):\n",
        "  if(high>low):\n",
        "    mid = (high + low)//2\n",
        "    if list1[mid] == num2:\n",
        "      return mid\n",
        "    elif list1[mid] > n:\n",
        "      return binary_search(list1, low, mid - 1, num2) \n",
        "    else:   \n",
        "      return binary_search(list1, mid + 1, high, num2) \n",
        "   \n",
        "  return -1\n",
        "   \n",
        "num2 = int(input(\"enter number : \"))\n",
        "\n",
        "\n",
        "res = binary_search(list1,0,l,num2)\n",
        "\n",
        "if res == -1:\n",
        "  print(\"NA\")\n",
        "else:\n",
        "  print(\"index:  \",res)\n",
        "\n"
      ],
      "metadata": {
        "colab": {
          "base_uri": "https://localhost:8080/"
        },
        "id": "oLOsUD5a909u",
        "outputId": "78cc4481-d40e-4f55-a099-5dfa86cb3210"
      },
      "execution_count": 49,
      "outputs": [
        {
          "output_type": "stream",
          "name": "stdout",
          "text": [
            "enter number : 22\n",
            "index:   1\n"
          ]
        }
      ]
    },
    {
      "cell_type": "code",
      "source": [
        "\"\"\"list2 =[]\n",
        "n = 5\n",
        "\n",
        "for i in range(n):\n",
        "  n_input = int(input('Enter input : ' ))\n",
        "  list1.append(n_input)\"\"\"\n",
        "\n",
        "\n",
        "def bubble_sort(list1):  \n",
        "    for i in range(0,l-1):  \n",
        "        for j in range(l-1):  \n",
        "            if(list1[j]>list1[j+1]):  \n",
        "                temp = list1[j]  \n",
        "                list1[j] = list1[j+1]  \n",
        "                list1[j+1] = temp  \n",
        "    return list1  \n",
        "\n",
        "\n",
        "print(\"sorted_list \", bubble_sort(list1)) \n"
      ],
      "metadata": {
        "colab": {
          "base_uri": "https://localhost:8080/"
        },
        "id": "KeWpxCNsBtx4",
        "outputId": "58b78e99-2bef-4bd3-8e56-8401ce8f0437"
      },
      "execution_count": 54,
      "outputs": [
        {
          "output_type": "stream",
          "name": "stdout",
          "text": [
            "sorted_list  [11, 13, 18, 19, 22, 28, 33, 37, 37, 44, 45, 55, 66, 71, 77, 82, 88, 93, 99, 221]\n"
          ]
        }
      ]
    },
    {
      "cell_type": "markdown",
      "source": [
        "Bubble Sort is a sorting algorithm that works by repeatedly swapping the adjacent elements if they are in the wrong order. We have to swap the elements beginning from first two if they are not present in a sorted format till the last pair to get the desired result\n",
        "\n",
        "\n"
      ],
      "metadata": {
        "id": "6vY5rZQRHJrv"
      }
    },
    {
      "cell_type": "code",
      "source": [
        "import statistics\n",
        "listsum = sum(list1)\n",
        "mean = listsum/l\n",
        "print(\"mean : \",mean)\n",
        "\n",
        "list1.sort()\n",
        "list1\n",
        "m1 = list1[l//2]\n",
        "m2 = list1[l//2 - 1]\n",
        "m = (m1+m2)/2\n",
        "\n",
        "print(\"median : \",m)\n",
        "print(\"mode : \")\n",
        "\n",
        "print(statistics.mode(list1))\n",
        "\n",
        "\n",
        "\n",
        "\n",
        "\n",
        "\n",
        "\n",
        "\n",
        "\n",
        "\n"
      ],
      "metadata": {
        "colab": {
          "base_uri": "https://localhost:8080/"
        },
        "id": "R1HXXGJ_EkGu",
        "outputId": "aa63a033-b112-4701-bbde-829e0c12d02e"
      },
      "execution_count": 58,
      "outputs": [
        {
          "output_type": "stream",
          "name": "stdout",
          "text": [
            "mean :  57.95\n",
            "median :  44.5\n",
            "mode : \n",
            "37\n"
          ]
        }
      ]
    },
    {
      "cell_type": "code",
      "source": [
        "prime=[]\n",
        "for i in list1:\n",
        "  count = 0\n",
        "  for j in range(1,i):\n",
        "    if(i%j==0):\n",
        "      count +=1\n",
        "  if count <= 1 :\n",
        "    prime.append(i)\n",
        "\n",
        "print(prime)\n",
        "\n",
        "\n"
      ],
      "metadata": {
        "colab": {
          "base_uri": "https://localhost:8080/"
        },
        "id": "RCVDBPaEDph2",
        "outputId": "7b946ade-4ae9-4ea0-fd3b-1f30678bae24"
      },
      "execution_count": 76,
      "outputs": [
        {
          "output_type": "stream",
          "name": "stdout",
          "text": [
            "[11, 13, 19, 37, 37, 71]\n"
          ]
        }
      ]
    }
  ]
}