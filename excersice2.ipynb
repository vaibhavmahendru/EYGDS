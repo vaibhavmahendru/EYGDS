{
  "nbformat": 4,
  "nbformat_minor": 0,
  "metadata": {
    "colab": {
      "provenance": [],
      "authorship_tag": "ABX9TyP0/iVKFUFo/tP5T4UVCxjX",
      "include_colab_link": true
    },
    "kernelspec": {
      "name": "python3",
      "display_name": "Python 3"
    },
    "language_info": {
      "name": "python"
    }
  },
  "cells": [
    {
      "cell_type": "markdown",
      "metadata": {
        "id": "view-in-github",
        "colab_type": "text"
      },
      "source": [
        "<a href=\"https://colab.research.google.com/github/vaibhavmahendru/EYGDS/blob/main/excersice2.ipynb\" target=\"_parent\"><img src=\"https://colab.research.google.com/assets/colab-badge.svg\" alt=\"Open In Colab\"/></a>"
      ]
    },
    {
      "cell_type": "markdown",
      "source": [
        "1. Write a program to take three names as input from a user in the single input() function call. "
      ],
      "metadata": {
        "id": "Z6OV6k6IcSwD"
      }
    },
    {
      "cell_type": "code",
      "execution_count": 2,
      "metadata": {
        "colab": {
          "base_uri": "https://localhost:8080/"
        },
        "id": "9xLhhJWtbYd8",
        "outputId": "8687bc63-8ad6-48a9-e7e9-8f991c54cefc"
      },
      "outputs": [
        {
          "output_type": "stream",
          "name": "stdout",
          "text": [
            "enter 3 names : bob alec jeff\n",
            "enter name 1 :  bob\n",
            "enter name 2 :  alec\n",
            "enter name 3 :  jeff\n",
            "\n"
          ]
        }
      ],
      "source": [
        "name1,name2,name3 = input(\"enter 3 names : \").split()\n",
        "\n",
        "print(\"enter name 1 : \",name1)\n",
        "print(\"enter name 2 : \",name2)\n",
        "print(\"enter name 3 : \",name3)\n",
        "\n",
        "print()\n"
      ]
    },
    {
      "cell_type": "markdown",
      "source": [
        "Write a program to print the following number pattern using a loop."
      ],
      "metadata": {
        "id": "jN4tmCDFcl0o"
      }
    },
    {
      "cell_type": "code",
      "source": [
        "rows = 5\n",
        "for i in range(1,rows+1):\n",
        "  for j in range(1, i+1):\n",
        "    print(j,end='')\n",
        "\n",
        "  print(\"\")\n"
      ],
      "metadata": {
        "colab": {
          "base_uri": "https://localhost:8080/"
        },
        "id": "JpW2FhdIcoL6",
        "outputId": "1c43c083-8bd9-4f8f-f801-e3ecd62010b5"
      },
      "execution_count": 3,
      "outputs": [
        {
          "output_type": "stream",
          "name": "stdout",
          "text": [
            "1\n",
            "12\n",
            "123\n",
            "1234\n",
            "12345\n"
          ]
        }
      ]
    },
    {
      "cell_type": "markdown",
      "source": [
        "3. Write a program to accept a number from a user and calculate the sum of all numbers from 1 to a given number "
      ],
      "metadata": {
        "id": "I4iG8eJ8dN5Q"
      }
    },
    {
      "cell_type": "code",
      "source": [
        "num  = int(input(\"enter a number : \"))\n",
        "sum = 0\n",
        "for num in range(1 , num+1):\n",
        "  sum = sum+num\n",
        "print(\"sum : \",sum)"
      ],
      "metadata": {
        "colab": {
          "base_uri": "https://localhost:8080/"
        },
        "id": "b_wrJGvedTTY",
        "outputId": "357cabf3-17a6-45e1-eb64-48f32df49c86"
      },
      "execution_count": 7,
      "outputs": [
        {
          "output_type": "stream",
          "name": "stdout",
          "text": [
            "enter a number : 10\n",
            "sum :  55\n"
          ]
        }
      ]
    },
    {
      "cell_type": "markdown",
      "source": [],
      "metadata": {
        "id": "5Ub9_IQmeN6w"
      }
    },
    {
      "cell_type": "markdown",
      "source": [
        "Print list in reverse order using a loop"
      ],
      "metadata": {
        "id": "vTb5hmJOeQcD"
      }
    },
    {
      "cell_type": "code",
      "source": [
        "list1 = [1,2,3,4,5]\n",
        "list1\n",
        "l = len(list1)\n",
        "for i in range(l//2):\n",
        "  list1[i] , list1[-1 -i] = list1[-1 -i] , list1[i]\n",
        "\n",
        "list1\n",
        " "
      ],
      "metadata": {
        "colab": {
          "base_uri": "https://localhost:8080/"
        },
        "id": "RvyqoSWneRBy",
        "outputId": "3cd880d7-a034-434d-96ce-d2ddd3e43d05"
      },
      "execution_count": 28,
      "outputs": [
        {
          "output_type": "execute_result",
          "data": {
            "text/plain": [
              "[5, 4, 3, 2, 1]"
            ]
          },
          "metadata": {},
          "execution_count": 28
        }
      ]
    },
    {
      "cell_type": "markdown",
      "source": [
        "Write a program to display all prime numbers within a range"
      ],
      "metadata": {
        "id": "Q5GOqvCGfCzq"
      }
    },
    {
      "cell_type": "code",
      "source": [
        "l = 100\n",
        "u = 200\n",
        "\n",
        "for n in range(l, u + 1):\n",
        "   if n> 1:\n",
        "       for i in range(2, n):\n",
        "           if (n % i) == 0:\n",
        "               break\n",
        "       else:\n",
        "           print(n)"
      ],
      "metadata": {
        "colab": {
          "base_uri": "https://localhost:8080/"
        },
        "id": "z5t9B-WAfF9x",
        "outputId": "5c94166a-c683-42b1-d889-a06a5964389e"
      },
      "execution_count": 16,
      "outputs": [
        {
          "output_type": "stream",
          "name": "stdout",
          "text": [
            "101\n",
            "103\n",
            "107\n",
            "109\n",
            "113\n",
            "127\n",
            "131\n",
            "137\n",
            "139\n",
            "149\n",
            "151\n",
            "157\n",
            "163\n",
            "167\n",
            "173\n",
            "179\n",
            "181\n",
            "191\n",
            "193\n",
            "197\n",
            "199\n"
          ]
        }
      ]
    },
    {
      "cell_type": "code",
      "source": [],
      "metadata": {
        "id": "HIDOBQvWlz6w"
      },
      "execution_count": null,
      "outputs": []
    },
    {
      "cell_type": "markdown",
      "source": [
        " Find the factorial of a given number without math module"
      ],
      "metadata": {
        "id": "U571Oo7xg5Gh"
      }
    },
    {
      "cell_type": "code",
      "source": [
        "num = int(input(\"enter a number : \"))\n",
        "def factorial(n):\n",
        "      \n",
        "    if n == 0:\n",
        "        return 1\n",
        "     \n",
        "    return n * factorial(n-1)\n",
        "\n",
        "print(\"Factorial :  \",factorial(num))\n",
        "  "
      ],
      "metadata": {
        "colab": {
          "base_uri": "https://localhost:8080/"
        },
        "id": "7KmHZUQKg7kQ",
        "outputId": "e0a932ca-5380-48e2-aae1-aa7328307125"
      },
      "execution_count": 22,
      "outputs": [
        {
          "output_type": "stream",
          "name": "stdout",
          "text": [
            "enter a number : 6\n",
            "Factorial :   720\n"
          ]
        }
      ]
    },
    {
      "cell_type": "markdown",
      "source": [
        "pattern\n"
      ],
      "metadata": {
        "id": "4p-DTUILiOeX"
      }
    },
    {
      "cell_type": "code",
      "source": [
        "rows = 5\n",
        "for i in range(0,rows):\n",
        "  for j in range(0,i+1):\n",
        "    print(\"*\",end=' ')\n",
        "  print(\"\\n\")\n",
        "\n",
        "\n",
        "for i in range(rows, 0, -1):\n",
        "    for j in range(0, i - 1):\n",
        "        print(\"*\", end=' ')\n",
        "    print(\"\\n\")"
      ],
      "metadata": {
        "colab": {
          "base_uri": "https://localhost:8080/"
        },
        "id": "Ze_xiqvmjOuA",
        "outputId": "19ec4f15-d8e9-4944-ba12-2fee331726dd"
      },
      "execution_count": 27,
      "outputs": [
        {
          "output_type": "stream",
          "name": "stdout",
          "text": [
            "* \n",
            "\n",
            "* * \n",
            "\n",
            "* * * \n",
            "\n",
            "* * * * \n",
            "\n",
            "* * * * * \n",
            "\n",
            "* * * * \n",
            "\n",
            "* * * \n",
            "\n",
            "* * \n",
            "\n",
            "* \n",
            "\n",
            "\n",
            "\n"
          ]
        }
      ]
    }
  ]
}