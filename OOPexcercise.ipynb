{
  "nbformat": 4,
  "nbformat_minor": 0,
  "metadata": {
    "colab": {
      "provenance": [],
      "authorship_tag": "ABX9TyNtasLwgz3Z8TFMpvRHkBFg",
      "include_colab_link": true
    },
    "kernelspec": {
      "name": "python3",
      "display_name": "Python 3"
    },
    "language_info": {
      "name": "python"
    }
  },
  "cells": [
    {
      "cell_type": "markdown",
      "metadata": {
        "id": "view-in-github",
        "colab_type": "text"
      },
      "source": [
        "<a href=\"https://colab.research.google.com/github/vaibhavmahendru/EYGDS/blob/main/OOPexcercise.ipynb\" target=\"_parent\"><img src=\"https://colab.research.google.com/assets/colab-badge.svg\" alt=\"Open In Colab\"/></a>"
      ]
    },
    {
      "cell_type": "markdown",
      "source": [
        "\n",
        "    OOPs Exercises:\n",
        "1.Write a Python program to create a Vehicle class with name, max_speed and mileage instance attributes.\n",
        "\n",
        " 2.For the same problem statement 1, Define a property that must have the same value for every class instance (object)\n",
        "\n",
        " 3.Create a child class 'Bus' that will inherit all of the variables and methods of the Vehicle class\n",
        "\n",
        " 4.create an object for child class i.e Bus and check whether the object is an instance of the Vehicle Class\n",
        " 5. Check whether Bus class is a subclass of Vehicle class\n",
        "\n",
        "Create an empty class called Car, check whether Car is a sub class of Vehicle Class\n"
      ],
      "metadata": {
        "id": "0Wf0SF3EXZQ8"
      }
    },
    {
      "cell_type": "code",
      "execution_count": 19,
      "metadata": {
        "colab": {
          "base_uri": "https://localhost:8080/"
        },
        "id": "-gBZzNqUJJIy",
        "outputId": "8c692be0-fe64-41a5-84bb-37c6a21f0d7f"
      },
      "outputs": [
        {
          "output_type": "stream",
          "name": "stdout",
          "text": [
            "Tata 100 10\n",
            "\n",
            "\n",
            "True\n",
            "\n",
            "\n",
            "True\n",
            "\n",
            "\n",
            "False\n"
          ]
        }
      ],
      "source": [
        "class vehicle:\n",
        "  transmission = \"manual\"\n",
        "  def __init__(self , name ,max_speed , milage):\n",
        "    self.name = name\n",
        "    self.max_speed = max_speed\n",
        "    self.milage = milage\n",
        "\n",
        "class bus(vehicle):\n",
        "  pass\n",
        "\n",
        "class car:\n",
        "  pass\n",
        "\n",
        "\n",
        "bus1 = bus(\"Tata\" , 100 , 10)\n",
        "print(bus1.name , bus1.max_speed , bus1.milage)\n",
        "print(\"\\n\")\n",
        "print(isinstance(bus1,vehicle))\n",
        "print(\"\\n\")\n",
        "print(issubclass(bus , vehicle))\n",
        "print(\"\\n\")\n",
        "print(issubclass(car , vehicle))\n"
      ]
    }
  ]
}