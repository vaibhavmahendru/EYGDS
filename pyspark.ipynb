{
  "nbformat": 4,
  "nbformat_minor": 0,
  "metadata": {
    "colab": {
      "provenance": [],
      "authorship_tag": "ABX9TyO4CoP/dDcMRfYOUNq1Hyiv",
      "include_colab_link": true
    },
    "kernelspec": {
      "name": "python3",
      "display_name": "Python 3"
    },
    "language_info": {
      "name": "python"
    }
  },
  "cells": [
    {
      "cell_type": "markdown",
      "metadata": {
        "id": "view-in-github",
        "colab_type": "text"
      },
      "source": [
        "<a href=\"https://colab.research.google.com/github/vaibhavmahendru/EYGDS/blob/main/pyspark.ipynb\" target=\"_parent\"><img src=\"https://colab.research.google.com/assets/colab-badge.svg\" alt=\"Open In Colab\"/></a>"
      ]
    },
    {
      "cell_type": "code",
      "execution_count": 1,
      "metadata": {
        "colab": {
          "base_uri": "https://localhost:8080/"
        },
        "id": "eg5wa6tHhnmq",
        "outputId": "602ec8fe-f6bc-4fbd-aa90-de4a2f81f6b7"
      },
      "outputs": [
        {
          "output_type": "stream",
          "name": "stdout",
          "text": [
            "Looking in indexes: https://pypi.org/simple, https://us-python.pkg.dev/colab-wheels/public/simple/\n",
            "Collecting pyspark\n",
            "  Downloading pyspark-3.3.0.tar.gz (281.3 MB)\n",
            "\u001b[K     |████████████████████████████████| 281.3 MB 40 kB/s \n",
            "\u001b[?25hCollecting py4j==0.10.9.5\n",
            "  Downloading py4j-0.10.9.5-py2.py3-none-any.whl (199 kB)\n",
            "\u001b[K     |████████████████████████████████| 199 kB 47.6 MB/s \n",
            "\u001b[?25hBuilding wheels for collected packages: pyspark\n",
            "  Building wheel for pyspark (setup.py) ... \u001b[?25l\u001b[?25hdone\n",
            "  Created wheel for pyspark: filename=pyspark-3.3.0-py2.py3-none-any.whl size=281764026 sha256=97341221b3e7dac3b79a1333828fcea028996e8633e80adca2688ed9be0a82ff\n",
            "  Stored in directory: /root/.cache/pip/wheels/7a/8e/1b/f73a52650d2e5f337708d9f6a1750d451a7349a867f928b885\n",
            "Successfully built pyspark\n",
            "Installing collected packages: py4j, pyspark\n",
            "Successfully installed py4j-0.10.9.5 pyspark-3.3.0\n"
          ]
        }
      ],
      "source": [
        "!pip install pyspark"
      ]
    },
    {
      "cell_type": "code",
      "source": [
        "import pyspark"
      ],
      "metadata": {
        "id": "C8fujOn6uPVN"
      },
      "execution_count": 2,
      "outputs": []
    },
    {
      "cell_type": "code",
      "source": [
        "import pandas as pd\n"
      ],
      "metadata": {
        "id": "qx0G7NFeuRib"
      },
      "execution_count": 3,
      "outputs": []
    },
    {
      "cell_type": "code",
      "source": [
        "from pyspark.sql import SparkSession"
      ],
      "metadata": {
        "id": "2wDjrQWouZ40"
      },
      "execution_count": 4,
      "outputs": []
    },
    {
      "cell_type": "code",
      "source": [
        "spark = SparkSession.builder.appName('Practice').getOrCreate()"
      ],
      "metadata": {
        "id": "0IfAhtlsub3r"
      },
      "execution_count": 5,
      "outputs": []
    },
    {
      "cell_type": "code",
      "source": [
        "spark"
      ],
      "metadata": {
        "colab": {
          "base_uri": "https://localhost:8080/",
          "height": 219
        },
        "id": "Ewnh50oAufN1",
        "outputId": "b92a070e-a446-47c0-81d6-3d837cfcee00"
      },
      "execution_count": 6,
      "outputs": [
        {
          "output_type": "execute_result",
          "data": {
            "text/plain": [
              "<pyspark.sql.session.SparkSession at 0x7fcab5c91e10>"
            ],
            "text/html": [
              "\n",
              "            <div>\n",
              "                <p><b>SparkSession - in-memory</b></p>\n",
              "                \n",
              "        <div>\n",
              "            <p><b>SparkContext</b></p>\n",
              "\n",
              "            <p><a href=\"http://df19ca49cd3a:4040\">Spark UI</a></p>\n",
              "\n",
              "            <dl>\n",
              "              <dt>Version</dt>\n",
              "                <dd><code>v3.3.0</code></dd>\n",
              "              <dt>Master</dt>\n",
              "                <dd><code>local[*]</code></dd>\n",
              "              <dt>AppName</dt>\n",
              "                <dd><code>Practice</code></dd>\n",
              "            </dl>\n",
              "        </div>\n",
              "        \n",
              "            </div>\n",
              "        "
            ]
          },
          "metadata": {},
          "execution_count": 6
        }
      ]
    },
    {
      "cell_type": "code",
      "source": [
        "df_pyspark =spark.read.csv('moviesDB.csv')"
      ],
      "metadata": {
        "id": "riyYUGTgulMC"
      },
      "execution_count": 8,
      "outputs": []
    },
    {
      "cell_type": "code",
      "source": [
        "df_pyspark"
      ],
      "metadata": {
        "colab": {
          "base_uri": "https://localhost:8080/"
        },
        "id": "bBr1w9sMvD1e",
        "outputId": "94442a56-cbdb-49e7-af97-edd84cd8e6f3"
      },
      "execution_count": 9,
      "outputs": [
        {
          "output_type": "execute_result",
          "data": {
            "text/plain": [
              "DataFrame[_c0: string, _c1: string, _c2: string, _c3: string, _c4: string, _c5: string]"
            ]
          },
          "metadata": {},
          "execution_count": 9
        }
      ]
    },
    {
      "cell_type": "code",
      "source": [
        "df_pyspark =spark.read.option('header', 'true').csv('moviesDB.csv')"
      ],
      "metadata": {
        "id": "Xallt13ivHOj"
      },
      "execution_count": 10,
      "outputs": []
    },
    {
      "cell_type": "code",
      "source": [
        "df_pyspark"
      ],
      "metadata": {
        "colab": {
          "base_uri": "https://localhost:8080/"
        },
        "id": "2_UmT7SQvOA9",
        "outputId": "64bc932c-0f2d-4685-e383-0570bac9004a"
      },
      "execution_count": 11,
      "outputs": [
        {
          "output_type": "execute_result",
          "data": {
            "text/plain": [
              "DataFrame[movie: string, title: string, genres: string, year: string, Rating: string, Rotton Tomato: string]"
            ]
          },
          "metadata": {},
          "execution_count": 11
        }
      ]
    },
    {
      "cell_type": "code",
      "source": [
        "df_pyspark =spark.read.option('header', 'true').csv('moviesDB.csv',inferSchema=True)\n"
      ],
      "metadata": {
        "id": "qVCqs33PvSEc"
      },
      "execution_count": 13,
      "outputs": []
    },
    {
      "cell_type": "code",
      "source": [
        "df_pyspark"
      ],
      "metadata": {
        "colab": {
          "base_uri": "https://localhost:8080/"
        },
        "id": "LMhC5TYhvcPV",
        "outputId": "2bce1fab-bc35-4ca3-d59e-431e64aab83b"
      },
      "execution_count": 14,
      "outputs": [
        {
          "output_type": "execute_result",
          "data": {
            "text/plain": [
              "DataFrame[movie: int, title: string, genres: string, year: int, Rating: int, Rotton Tomato: int]"
            ]
          },
          "metadata": {},
          "execution_count": 14
        }
      ]
    },
    {
      "cell_type": "code",
      "source": [
        "type(df_pyspark)"
      ],
      "metadata": {
        "colab": {
          "base_uri": "https://localhost:8080/"
        },
        "id": "fThkt900vkiM",
        "outputId": "bead80fe-61a7-4eb8-da0a-b0b5eaf22c3a"
      },
      "execution_count": 15,
      "outputs": [
        {
          "output_type": "execute_result",
          "data": {
            "text/plain": [
              "pyspark.sql.dataframe.DataFrame"
            ]
          },
          "metadata": {},
          "execution_count": 15
        }
      ]
    },
    {
      "cell_type": "code",
      "source": [
        "df_pyspark.printSchema()"
      ],
      "metadata": {
        "colab": {
          "base_uri": "https://localhost:8080/"
        },
        "id": "XtJqGN-uvpj6",
        "outputId": "a16fe3af-e052-46b3-b136-a83493808de4"
      },
      "execution_count": 16,
      "outputs": [
        {
          "output_type": "stream",
          "name": "stdout",
          "text": [
            "root\n",
            " |-- movie: integer (nullable = true)\n",
            " |-- title: string (nullable = true)\n",
            " |-- genres: string (nullable = true)\n",
            " |-- year: integer (nullable = true)\n",
            " |-- Rating: integer (nullable = true)\n",
            " |-- Rotton Tomato: integer (nullable = true)\n",
            "\n"
          ]
        }
      ]
    },
    {
      "cell_type": "code",
      "source": [
        "df_pyspark.show()"
      ],
      "metadata": {
        "colab": {
          "base_uri": "https://localhost:8080/"
        },
        "id": "o6JZYzpmwKOm",
        "outputId": "847f4d32-7c55-4881-dc04-72b3612b2e80"
      },
      "execution_count": 17,
      "outputs": [
        {
          "output_type": "stream",
          "name": "stdout",
          "text": [
            "+------+--------------------+--------------------+-----+------+-------------+\n",
            "| movie|               title|              genres| year|Rating|Rotton Tomato|\n",
            "+------+--------------------+--------------------+-----+------+-------------+\n",
            "|108583| Fawlty Towers (1975|              Comedy|-1980|     1|           54|\n",
            "| 32898|Trip to the Moon,...|Action|Adventure|...| 1902|     7|           80|\n",
            "|  7065|Birth of a Nation...|           Drama|War| 1915|     6|           92|\n",
            "|  7243|Intolerance: Love...|               Drama| 1915|     4|           82|\n",
            "| 62383|20,000 Leagues Un...|Action|Adventure|...| 1915|     9|           92|\n",
            "|  8511|      Immigrant, The|              Comedy| 1917|     4|           59|\n",
            "|  3309|       Dog's Life, A|              Comedy| 1917|     3|           83|\n",
            "| 72626|  Billy Blazes, Esq.|      Comedy|Western| 1918|     2|           63|\n",
            "|  6987|Cabinet of Dr. Ca...|Crime|Fantasy|Horror| 1919|     4|           63|\n",
            "| 25737|Golem, The (Golem...|      Fantasy|Horror| 1919|     8|           50|\n",
            "| 59945|  Mark of Zorro, The|Adventure|Romance...| 1919|     8|           67|\n",
            "|  3310|            Kid, The|        Comedy|Drama| 1921|     8|           57|\n",
            "| 83096|  Haunted House, The|              Comedy| 1920|     9|           61|\n",
            "| 83318|           Goat, The|              Comedy| 1921|     8|           86|\n",
            "| 83322|           Boat, The|              Comedy| 1920|     4|           65|\n",
            "| 83359|     Play House, The|              Comedy| 1921|     6|           53|\n",
            "|  1348|Nosferatu (Nosfer...|              Horror| 1922|     3|           65|\n",
            "|  4768|Dr. Mabuse: The G...|Crime|Mystery|Thr...| 1921|     2|           69|\n",
            "| 25744|Haxan: Witchcraft...|  Documentary|Horror| 1922|     6|           83|\n",
            "| 44587| Nanook of the North|   Documentary|Drama| 1922|     2|           77|\n",
            "+------+--------------------+--------------------+-----+------+-------------+\n",
            "only showing top 20 rows\n",
            "\n"
          ]
        }
      ]
    },
    {
      "cell_type": "code",
      "source": [
        "df_pyspark.head(5)"
      ],
      "metadata": {
        "colab": {
          "base_uri": "https://localhost:8080/"
        },
        "id": "aHsLx6FKwatx",
        "outputId": "6d116e17-d6ed-46fb-fedb-b3ecb7ba7d1d"
      },
      "execution_count": 18,
      "outputs": [
        {
          "output_type": "execute_result",
          "data": {
            "text/plain": [
              "[Row(movie=108583, title='Fawlty Towers (1975', genres='Comedy', year=-1980, Rating=1, Rotton Tomato=54),\n",
              " Row(movie=32898, title='Trip to the Moon, A (Voyage dans la lune, Le)', genres='Action|Adventure|Fantasy|Sci-Fi', year=1902, Rating=7, Rotton Tomato=80),\n",
              " Row(movie=7065, title='Birth of a Nation, The', genres='Drama|War', year=1915, Rating=6, Rotton Tomato=92),\n",
              " Row(movie=7243, title=\"Intolerance: Love's Struggle Throughout the Ages\", genres='Drama', year=1915, Rating=4, Rotton Tomato=82),\n",
              " Row(movie=62383, title='20,000 Leagues Under the Sea', genres='Action|Adventure|Sci-Fi', year=1915, Rating=9, Rotton Tomato=92)]"
            ]
          },
          "metadata": {},
          "execution_count": 18
        }
      ]
    },
    {
      "cell_type": "code",
      "source": [
        "df_pyspark.tail(5)"
      ],
      "metadata": {
        "colab": {
          "base_uri": "https://localhost:8080/"
        },
        "id": "seiVjK6-wd9N",
        "outputId": "9c4ec40b-32fc-4633-d61d-62cd4540df0e"
      },
      "execution_count": 19,
      "outputs": [
        {
          "output_type": "execute_result",
          "data": {
            "text/plain": [
              "[Row(movie=110748, title='Wake Wood (', genres='Drama|Horror|Mystery', year=1927, Rating=4, Rotton Tomato=83),\n",
              " Row(movie=143410, title='Hyen', genres='(no genres listed)', year=1928, Rating=9, Rotton Tomato=58),\n",
              " Row(movie=151307, title='The Lovers and the', genres='(no genres listed)', year=1929, Rating=8, Rotton Tomato=97),\n",
              " Row(movie=162376, title='Stranger', genres='Drama', year=1930, Rating=4, Rotton Tomato=76),\n",
              " Row(movie=164979, title=\"Women of '69, U\", genres='Documentary', year=1931, Rating=5, Rotton Tomato=68)]"
            ]
          },
          "metadata": {},
          "execution_count": 19
        }
      ]
    },
    {
      "cell_type": "code",
      "source": [
        "df_pyspark.select(\"movie\",\"title\",\"year\").show()"
      ],
      "metadata": {
        "colab": {
          "base_uri": "https://localhost:8080/"
        },
        "id": "IthWGUp1xG3t",
        "outputId": "8be24410-53b1-450f-bf92-dad8db9397b2"
      },
      "execution_count": 20,
      "outputs": [
        {
          "output_type": "stream",
          "name": "stdout",
          "text": [
            "+------+--------------------+-----+\n",
            "| movie|               title| year|\n",
            "+------+--------------------+-----+\n",
            "|108583| Fawlty Towers (1975|-1980|\n",
            "| 32898|Trip to the Moon,...| 1902|\n",
            "|  7065|Birth of a Nation...| 1915|\n",
            "|  7243|Intolerance: Love...| 1915|\n",
            "| 62383|20,000 Leagues Un...| 1915|\n",
            "|  8511|      Immigrant, The| 1917|\n",
            "|  3309|       Dog's Life, A| 1917|\n",
            "| 72626|  Billy Blazes, Esq.| 1918|\n",
            "|  6987|Cabinet of Dr. Ca...| 1919|\n",
            "| 25737|Golem, The (Golem...| 1919|\n",
            "| 59945|  Mark of Zorro, The| 1919|\n",
            "|  3310|            Kid, The| 1921|\n",
            "| 83096|  Haunted House, The| 1920|\n",
            "| 83318|           Goat, The| 1921|\n",
            "| 83322|           Boat, The| 1920|\n",
            "| 83359|     Play House, The| 1921|\n",
            "|  1348|Nosferatu (Nosfer...| 1922|\n",
            "|  4768|Dr. Mabuse: The G...| 1921|\n",
            "| 25744|Haxan: Witchcraft...| 1922|\n",
            "| 44587| Nanook of the North| 1922|\n",
            "+------+--------------------+-----+\n",
            "only showing top 20 rows\n",
            "\n"
          ]
        }
      ]
    }
  ]
}