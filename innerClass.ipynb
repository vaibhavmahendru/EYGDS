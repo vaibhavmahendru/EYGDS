{
  "nbformat": 4,
  "nbformat_minor": 0,
  "metadata": {
    "colab": {
      "provenance": [],
      "authorship_tag": "ABX9TyOrYBf00sKEIg/F/ttTbksU",
      "include_colab_link": true
    },
    "kernelspec": {
      "name": "python3",
      "display_name": "Python 3"
    },
    "language_info": {
      "name": "python"
    }
  },
  "cells": [
    {
      "cell_type": "markdown",
      "metadata": {
        "id": "view-in-github",
        "colab_type": "text"
      },
      "source": [
        "<a href=\"https://colab.research.google.com/github/vaibhavmahendru/EYGDS/blob/main/innerClass.ipynb\" target=\"_parent\"><img src=\"https://colab.research.google.com/assets/colab-badge.svg\" alt=\"Open In Colab\"/></a>"
      ]
    },
    {
      "cell_type": "code",
      "execution_count": 29,
      "metadata": {
        "colab": {
          "base_uri": "https://localhost:8080/"
        },
        "id": "WaBE5QjxTHJ1",
        "outputId": "51e9973c-d658-47cd-f1fa-f317db602d07"
      },
      "outputs": [
        {
          "output_type": "stream",
          "name": "stdout",
          "text": [
            "Alex 15551 34000\n",
            "\n",
            "\n",
            "keller 15536 40000\n",
            "\n",
            "\n",
            "Bob 15548 50000\n",
            "\n",
            "\n",
            "Pune 400007\n",
            "\n",
            "\n",
            "Pune 400007\n",
            "\n",
            "\n",
            "140238495569488\n",
            "\n",
            "\n",
            "140238495570384\n",
            "\n",
            "\n",
            "India\n"
          ]
        }
      ],
      "source": [
        "class person:\n",
        "  def __init__(self , name , id , income):\n",
        "    self.name = name\n",
        "    self.id = id\n",
        "    self.income = income\n",
        "    self.loc = self.location()\n",
        "    \n",
        "\n",
        "  def display(self):\n",
        "      print(self.name , self.id , self.income)\n",
        "\n",
        "\n",
        "  class location:\n",
        "    def __init__(self):\n",
        "      self.city = \"Pune\"\n",
        "      self.PinCode = 400007\n",
        "\n",
        "    def display(self):\n",
        "      print(self.city , self.PinCode)\n",
        "\n",
        "    class country:\n",
        "      def __init__(self):\n",
        "        self.country = \"India\"\n",
        "\n",
        "      def display(self):\n",
        "        print(self.country)\n",
        "\n",
        "\n",
        "\n",
        "\n",
        "\n",
        "p1 = person(\"Alex\" , 15551 , 34000)\n",
        "p2 = person(\"keller\" ,15536 , 40000)\n",
        "p1.display()\n",
        "print(\"\\n\")\n",
        "p2.display()\n",
        "print(\"\\n\")\n",
        "\n",
        "p3 = person(\"Bob\" , 15548 , 50000)\n",
        "\n",
        "p3.display()\n",
        "print(\"\\n\")\n",
        " \n",
        "l1 = person.location()\n",
        "\n",
        "l2 = person.location()\n",
        "c1 = person.location.country()\n",
        "\n",
        "\n",
        "\n",
        "\n",
        "l1.display()\n",
        "print(\"\\n\")\n",
        "l2.display()\n",
        "print(\"\\n\")\n",
        "\n",
        "print(id(l1))\n",
        "print(\"\\n\")\n",
        "print(id(l2))\n",
        "\n",
        "print(\"\\n\")\n",
        "c1.display()\n",
        "\n",
        "\n",
        "\n"
      ]
    }
  ]
}