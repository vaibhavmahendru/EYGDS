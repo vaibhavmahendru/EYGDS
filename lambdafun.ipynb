{
  "nbformat": 4,
  "nbformat_minor": 0,
  "metadata": {
    "colab": {
      "provenance": [],
      "authorship_tag": "ABX9TyO2/a+iJrsVsZEmDevRb3E7",
      "include_colab_link": true
    },
    "kernelspec": {
      "name": "python3",
      "display_name": "Python 3"
    },
    "language_info": {
      "name": "python"
    }
  },
  "cells": [
    {
      "cell_type": "markdown",
      "metadata": {
        "id": "view-in-github",
        "colab_type": "text"
      },
      "source": [
        "<a href=\"https://colab.research.google.com/github/vaibhavmahendru/EYGDS/blob/main/lambdafun.ipynb\" target=\"_parent\"><img src=\"https://colab.research.google.com/assets/colab-badge.svg\" alt=\"Open In Colab\"/></a>"
      ]
    },
    {
      "cell_type": "markdown",
      "source": [
        "Write a Python program to create a lambda function that adds 15 to a given number passed in as an argument, also create a lambda function that multiplies argument x with argument y and print the result."
      ],
      "metadata": {
        "id": "b_ZgJYZrkaF9"
      }
    },
    {
      "cell_type": "code",
      "source": [
        "res = lambda a : a + 15\n",
        "print(res(10))"
      ],
      "metadata": {
        "colab": {
          "base_uri": "https://localhost:8080/"
        },
        "id": "YNJbab33kkhP",
        "outputId": "a8ccae79-6c42-4f7b-befb-46899f0d0b13"
      },
      "execution_count": 41,
      "outputs": [
        {
          "output_type": "stream",
          "name": "stdout",
          "text": [
            "25\n"
          ]
        }
      ]
    },
    {
      "cell_type": "code",
      "source": [
        "res = lambda x , y : x * y\n",
        "print(res(5,3))\n"
      ],
      "metadata": {
        "colab": {
          "base_uri": "https://localhost:8080/"
        },
        "id": "6Asvr_dlk8KG",
        "outputId": "796ac248-9bbd-4012-ddf7-289c64fa9913"
      },
      "execution_count": 42,
      "outputs": [
        {
          "output_type": "stream",
          "name": "stdout",
          "text": [
            "15\n"
          ]
        }
      ]
    },
    {
      "cell_type": "markdown",
      "source": [
        " Write a Python program to extract PRESENT year, month, date and time using Lambda."
      ],
      "metadata": {
        "id": "yVJFBmJ-lTPA"
      }
    },
    {
      "cell_type": "code",
      "source": [
        "import datetime\n",
        "now = datetime.datetime.now()\n",
        "print(now)"
      ],
      "metadata": {
        "colab": {
          "base_uri": "https://localhost:8080/"
        },
        "id": "I6dpq5yHlUIG",
        "outputId": "f0b302ba-0d4d-4e47-e577-f68120128b8e"
      },
      "execution_count": 49,
      "outputs": [
        {
          "output_type": "stream",
          "name": "stdout",
          "text": [
            "2022-09-20 11:13:56.043612\n"
          ]
        }
      ]
    },
    {
      "cell_type": "markdown",
      "source": [
        "3.Write a Python program that sum the length of the names of a given list of names after removing the names that starts with a lowercase letter. Use lambda function"
      ],
      "metadata": {
        "id": "mLJZjwACnAx9"
      }
    },
    {
      "cell_type": "code",
      "source": [
        "people = ['Alex' , 'bob' , 'Jeff']\n",
        "people = list(filter(lambda e:e[0].isupper() and e[1:].islower(),people))\n",
        "print(len(' '.join(people)))"
      ],
      "metadata": {
        "colab": {
          "base_uri": "https://localhost:8080/"
        },
        "id": "j4Gp2r3PnBrO",
        "outputId": "9a15b048-3b06-4e87-bb18-bee618fab548"
      },
      "execution_count": 60,
      "outputs": [
        {
          "output_type": "stream",
          "name": "stdout",
          "text": [
            "9\n"
          ]
        }
      ]
    },
    {
      "cell_type": "markdown",
      "source": [
        "Write a Python program to extract specified size of strings from a give list of string values using lambda"
      ],
      "metadata": {
        "id": "QHaP6auTrKZu"
      }
    },
    {
      "cell_type": "code",
      "source": [
        "s = ['Alex' , 'bob' , 'Jeff']\n",
        "l = 4\n",
        "res = list(filter(lambda e: len(e) == l, s))\n",
        "\n",
        "print(res)\n",
        "\n"
      ],
      "metadata": {
        "colab": {
          "base_uri": "https://localhost:8080/"
        },
        "id": "-cfdZuWwrLG2",
        "outputId": "9efd5c82-2b12-4c9a-8e0a-856017095f6d"
      },
      "execution_count": 59,
      "outputs": [
        {
          "output_type": "stream",
          "name": "stdout",
          "text": [
            "['Alex', 'Jeff']\n"
          ]
        }
      ]
    },
    {
      "cell_type": "markdown",
      "source": [
        "5. Write a Python program to find the elements of a given list of strings that contain specific substring using lambda.\n",
        "\n",
        "\n",
        "Original list:\n",
        "['red', 'black', 'white', 'green', 'orange']\n",
        "Substring to search:\n",
        "ack\n",
        "Elements of the said list that contain specific substring:\n",
        "['black']\n",
        "Substring to search:\n",
        "abc\n",
        "Elements of the said list that contain specific substring:\n",
        "[]"
      ],
      "metadata": {
        "id": "mSFJfixduagu"
      }
    },
    {
      "cell_type": "code",
      "source": [
        "Original_list = [\"red\", \"black\", \"white\", \"green\", \"orange\"]\n",
        "sub_str = \"ack\"\n",
        "sub_str1 = \"abc\"\n",
        "\n",
        "res = list(filter(lambda e: sub_str in e ,Original_list))\n",
        "res1 = list(filter(lambda e: sub_str1 in e ,Original_list))\n",
        "print(res)\n",
        "print(res1)"
      ],
      "metadata": {
        "colab": {
          "base_uri": "https://localhost:8080/"
        },
        "id": "nH8Qk0_Yug8w",
        "outputId": "773e0b6d-b3bc-4b44-ecc8-135171a369e1"
      },
      "execution_count": 66,
      "outputs": [
        {
          "output_type": "stream",
          "name": "stdout",
          "text": [
            "['black']\n",
            "[]\n"
          ]
        }
      ]
    }
  ]
}